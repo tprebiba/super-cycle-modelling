{
 "cells": [
  {
   "cell_type": "code",
   "execution_count": 1,
   "metadata": {},
   "outputs": [],
   "source": [
    "import numpy as np\n",
    "import matplotlib.pyplot as plt\n",
    "import pandas as pnd\n",
    "\n",
    "import constants as cnst\n",
    "from classes import SuperCycle, SuperCycleScheduler\n",
    "from helpers import cycles_to_dataframe, supercycles_scenario_to_dataframe"
   ]
  },
  {
   "cell_type": "code",
   "execution_count": 2,
   "metadata": {},
   "outputs": [],
   "source": [
    "SPS_typical_supercycles_scenario = {\n",
    "    'AWAKE': SuperCycle('SPS', 'AWAKE', \n",
    "                        [cnst.SPS_CYCLES['AWAKE'], cnst.SPS_CYCLES['SFTPRO'], cnst.SPS_CYCLES['deGauss']]),\n",
    "    'AWAKE with parallel MD': SuperCycle('SPS', 'AWAKE with parallel MD', \n",
    "                                         [cnst.SPS_CYCLES['AWAKE'], cnst.SPS_CYCLES['MD parallel'], cnst.SPS_CYCLES['SFTPRO']]),\n",
    "    'Dedicated MD': SuperCycle('SPS', 'Dedicated MD', \n",
    "                               [cnst.SPS_CYCLES['MD dedicated']]),\n",
    "    'HiRadMat': SuperCycle('SPS', 'HiRadMat', \n",
    "                           [cnst.SPS_CYCLES['HiRadMat'], cnst.SPS_CYCLES['SFTPRO'], cnst.SPS_CYCLES['deGauss']]),\n",
    "    'LHC filling': SuperCycle('SPS', 'LHC filling', \n",
    "                              [cnst.SPS_CYCLES['LHC filling'], cnst.SPS_CYCLES['SFTPRO'], cnst.SPS_CYCLES['deGauss']]),\n",
    "    'LHC setup': SuperCycle('SPS', 'LHC setup', \n",
    "                            [cnst.SPS_CYCLES['LHC pilot'], cnst.SPS_CYCLES['SFTPRO'], cnst.SPS_CYCLES['deGauss']]),\n",
    "    'Physics': SuperCycle('SPS', 'Physics', \n",
    "                          [cnst.SPS_CYCLES['SFTPRO'], cnst.SPS_CYCLES['deGauss']]),\n",
    "    'Physics with parallel MD': SuperCycle('SPS', 'Physics with parallel MD', \n",
    "                                           [cnst.SPS_CYCLES['MD parallel'], cnst.SPS_CYCLES['SFTPRO']]),\n",
    "    'Scrubbing': SuperCycle('SPS', 'Scrubbing', \n",
    "                            [cnst.SPS_CYCLES['Scrubbing'], cnst.SPS_CYCLES['SFTPRO']]),#, cnst.SPS_CYCLES['deGauss']]),\n",
    "    'Thursday MD': SuperCycle('SPS', 'Thursday MD', \n",
    "                              [cnst.SPS_CYCLES['MD dedicated'], cnst.SPS_CYCLES['SFTPRO']]),#, cnst.SPS_CYCLES['deGauss']]),\n",
    "}"
   ]
  },
  {
   "cell_type": "code",
   "execution_count": 3,
   "metadata": {},
   "outputs": [
    {
     "name": "stdout",
     "output_type": "stream",
     "text": [
      "Total BPs of PS: 13968000\n",
      "Total free BPs of PS: 9942080\n",
      "Percentage of free BPs of PS: 71.2%\n",
      "Number of times the supercycles were played in the allocated time:\n",
      "{'AWAKE': 96970.0, 'HiRadMat': 13500.0, 'LHC filling': 65475.000000000015, 'LHC pilot': 60730.434782608696, 'MD dedicated': 48817.24137931035, 'MD parallel': 208740.00000000003, 'SFTPRO': 792221.6416791605, 'Scrubbing': 4468.9655172413795, 'deGauss': 563495.4347826088}\n"
     ]
    }
   ],
   "source": [
    "supercyclescheduler1 = SuperCycleScheduler(SPS_typical_supercycles_scenario, \n",
    "                                           cnst.SPS_SUPERCYCLES_TIME_SHARING_HOURS['Protons only'], \n",
    "                                           machine_availability=0.8)\n",
    "supercyclescheduler1.calculate_number_of_cycles()\n",
    "print('Total BPs of PS: %i'%supercyclescheduler1.injector_total_bps)\n",
    "print('Total free BPs of PS: %i'%supercyclescheduler1.injector_total_free_bps)\n",
    "print('Percentage of free BPs of PS: %1.1f%%'%supercyclescheduler1.free_bps_percentage)\n",
    "print('Number of times the supercycles were played in the allocated time:')\n",
    "print(supercyclescheduler1.number_of_cycles_played_total)"
   ]
  },
  {
   "cell_type": "code",
   "execution_count": 4,
   "metadata": {},
   "outputs": [],
   "source": [
    "SPS_future_supercycles_scenario = {\n",
    "    'AWAKE': SuperCycle('SPS', 'AWAKE', \n",
    "                        [cnst.SPS_CYCLES['AWAKE'], cnst.SPS_CYCLES['AWAKE'], cnst.SPS_CYCLES['ECN3_D (1.2s)'], cnst.SPS_CYCLES['ECN3_D (1.2s)'], cnst.SPS_CYCLES['ECN3_D (1.2s)'], cnst.SPS_CYCLES['SFTPRO'], cnst.SPS_CYCLES['deGauss']]),\n",
    "    'AWAKE with parallel MD': SuperCycle('SPS', 'AWAKE with parallel MD', \n",
    "                                         [cnst.SPS_CYCLES['AWAKE'], cnst.SPS_CYCLES['AWAKE'], cnst.SPS_CYCLES['ECN3_D (1.2s)'], cnst.SPS_CYCLES['ECN3_D (1.2s)'], cnst.SPS_CYCLES['ECN3_D (1.2s)'], cnst.SPS_CYCLES['MD parallel'], cnst.SPS_CYCLES['SFTPRO'], cnst.SPS_CYCLES['deGauss']]),\n",
    "    'Dedicated MD': SuperCycle('SPS', 'Dedicated MD', \n",
    "                               [cnst.SPS_CYCLES['MD dedicated']]),\n",
    "    'HiRadMat': SuperCycle('SPS', 'HiRadMat', \n",
    "                           [cnst.SPS_CYCLES['HiRadMat'], cnst.SPS_CYCLES['ECN3_D (1.2s)'], cnst.SPS_CYCLES['ECN3_D (1.2s)'], cnst.SPS_CYCLES['ECN3_D (1.2s)'], cnst.SPS_CYCLES['ECN3_D (1.2s)']]),\n",
    "    'LHC filling': SuperCycle('SPS', 'LHC filling', \n",
    "                              [cnst.SPS_CYCLES['LHC filling'], cnst.SPS_CYCLES['ECN3_D (1.2s)']]),\n",
    "    'LHC setup': SuperCycle('SPS', 'LHC setup', \n",
    "                            [cnst.SPS_CYCLES['LHC pilot'], cnst.SPS_CYCLES['ECN3_D (1.2s)'], cnst.SPS_CYCLES['ECN3_D (1.2s)'], cnst.SPS_CYCLES['ECN3_D (1.2s)'], cnst.SPS_CYCLES['ECN3_D (1.2s)']]),\n",
    "    'Physics': SuperCycle('SPS', 'Physics', \n",
    "                          [cnst.SPS_CYCLES['SFTPRO'], cnst.SPS_CYCLES['deGauss'], cnst.SPS_CYCLES['ECN3_D (1.2s)'], cnst.SPS_CYCLES['ECN3_D (1.2s)'], cnst.SPS_CYCLES['ECN3_D (1.2s)'], cnst.SPS_CYCLES['ECN3_D (1.2s)']]),\n",
    "    'Physics with parallel MD': SuperCycle('SPS', 'Physics with parallel MD', \n",
    "                                           [cnst.SPS_CYCLES['MD parallel'], cnst.SPS_CYCLES['SFTPRO'], cnst.SPS_CYCLES['ECN3_D (1.2s)'], cnst.SPS_CYCLES['ECN3_D (1.2s)'], cnst.SPS_CYCLES['ECN3_D (1.2s)'], cnst.SPS_CYCLES['ECN3_D (1.2s)']]),\n",
    "    'Scrubbing': SuperCycle('SPS', 'Scrubbing', \n",
    "                            [cnst.SPS_CYCLES['Scrubbing'], cnst.SPS_CYCLES['SFTPRO']]),\n",
    "    'Thursday MD': SuperCycle('SPS', 'Thursday MD', \n",
    "                              [cnst.SPS_CYCLES['MD dedicated'], cnst.SPS_CYCLES['SFTPRO'], cnst.SPS_CYCLES['deGauss'], cnst.SPS_CYCLES['ECN3_D (1.2s)'], cnst.SPS_CYCLES['ECN3_D (1.2s)']]),\n",
    "}"
   ]
  },
  {
   "cell_type": "code",
   "execution_count": 5,
   "metadata": {},
   "outputs": [
    {
     "name": "stdout",
     "output_type": "stream",
     "text": [
      "Total BPs of PS: 13968000\n",
      "Total free BPs of PS: 8973666\n",
      "Percentage of free BPs of PS: 64.2%\n",
      "Number of times the supercycles were played in the allocated time:\n",
      "{'AWAKE': 83527.5, 'ECN3_D (1.2s)': 1177422.0392107891, 'HiRadMat': 9818.181818181818, 'LHC filling': 80584.6153846154, 'LHC pilot': 39908.57142857143, 'MD dedicated': 43527.27272727273, 'MD parallel': 81499.90384615386, 'SFTPRO': 244506.142090668, 'Scrubbing': 4468.9655172413795, 'deGauss': 168591.02272727274}\n"
     ]
    }
   ],
   "source": [
    "supercyclescheduler2 = SuperCycleScheduler(SPS_future_supercycles_scenario, \n",
    "                                           cnst.SPS_SUPERCYCLES_TIME_SHARING_HOURS['Protons only'], \n",
    "                                           machine_availability=0.8)\n",
    "supercyclescheduler2.calculate_number_of_cycles()\n",
    "print('Total BPs of PS: %i'%supercyclescheduler2.injector_total_bps)\n",
    "print('Total free BPs of PS: %i'%supercyclescheduler2.injector_total_free_bps)\n",
    "print('Percentage of free BPs of PS: %1.1f%%'%supercyclescheduler2.free_bps_percentage)\n",
    "print('Number of times the supercycles were played in the allocated time:')\n",
    "print(supercyclescheduler2.number_of_cycles_played_total)"
   ]
  },
  {
   "cell_type": "code",
   "execution_count": 6,
   "metadata": {},
   "outputs": [
    {
     "name": "stdout",
     "output_type": "stream",
     "text": [
      "A supercycle scenario of many dedicated ECN3 cycles would reduce the available BPs in the PS/PSB by 6.9%\n"
     ]
    }
   ],
   "source": [
    "print('A supercycle scenario of many dedicated ECN3 cycles would reduce the available BPs in the PS/PSB by %1.1f%%'%(supercyclescheduler1.free_bps_percentage-supercyclescheduler2.free_bps_percentage))"
   ]
  },
  {
   "cell_type": "code",
   "execution_count": null,
   "metadata": {},
   "outputs": [],
   "source": []
  }
 ],
 "metadata": {
  "kernelspec": {
   "display_name": "base",
   "language": "python",
   "name": "python3"
  },
  "language_info": {
   "codemirror_mode": {
    "name": "ipython",
    "version": 3
   },
   "file_extension": ".py",
   "mimetype": "text/x-python",
   "name": "python",
   "nbconvert_exporter": "python",
   "pygments_lexer": "ipython3",
   "version": "3.9.12"
  }
 },
 "nbformat": 4,
 "nbformat_minor": 2
}
