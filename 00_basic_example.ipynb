{
 "cells": [
  {
   "cell_type": "code",
   "execution_count": 1,
   "metadata": {},
   "outputs": [],
   "source": [
    "import numpy as np\n",
    "import matplotlib.pyplot as plt\n",
    "import pandas as pnd\n",
    "\n",
    "import constants as cnst\n",
    "from classes import SuperCycle\n",
    "from helpers import cycles_to_dataframe, supercycles_scenario_to_dataframe\n",
    "from plotting_helpers import plot_supercycle"
   ]
  },
  {
   "cell_type": "markdown",
   "metadata": {},
   "source": [
    "# Cycles modelling"
   ]
  },
  {
   "cell_type": "code",
   "execution_count": 2,
   "metadata": {},
   "outputs": [
    {
     "data": {
      "text/html": [
       "<div>\n",
       "<style scoped>\n",
       "    .dataframe tbody tr th:only-of-type {\n",
       "        vertical-align: middle;\n",
       "    }\n",
       "\n",
       "    .dataframe tbody tr th {\n",
       "        vertical-align: top;\n",
       "    }\n",
       "\n",
       "    .dataframe thead th {\n",
       "        text-align: right;\n",
       "    }\n",
       "</style>\n",
       "<table border=\"1\" class=\"dataframe\">\n",
       "  <thead>\n",
       "    <tr style=\"text-align: right;\">\n",
       "      <th></th>\n",
       "      <th>Length [s]</th>\n",
       "      <th>BPs</th>\n",
       "      <th>Power (MB+MQ) [MW]</th>\n",
       "    </tr>\n",
       "  </thead>\n",
       "  <tbody>\n",
       "    <tr>\n",
       "      <th>AWAKE</th>\n",
       "      <td>7.2</td>\n",
       "      <td>6.0</td>\n",
       "      <td>31.19</td>\n",
       "    </tr>\n",
       "    <tr>\n",
       "      <th>HiRadMat</th>\n",
       "      <td>24.0</td>\n",
       "      <td>20.0</td>\n",
       "      <td>17.52</td>\n",
       "    </tr>\n",
       "    <tr>\n",
       "      <th>SFTPRO</th>\n",
       "      <td>10.8</td>\n",
       "      <td>9.0</td>\n",
       "      <td>52.83</td>\n",
       "    </tr>\n",
       "    <tr>\n",
       "      <th>LHC filling</th>\n",
       "      <td>24.0</td>\n",
       "      <td>20.0</td>\n",
       "      <td>18.03</td>\n",
       "    </tr>\n",
       "    <tr>\n",
       "      <th>LHC pilot</th>\n",
       "      <td>13.2</td>\n",
       "      <td>11.0</td>\n",
       "      <td>32.50</td>\n",
       "    </tr>\n",
       "    <tr>\n",
       "      <th>MD dedicated</th>\n",
       "      <td>24.0</td>\n",
       "      <td>20.0</td>\n",
       "      <td>18.03</td>\n",
       "    </tr>\n",
       "    <tr>\n",
       "      <th>MD parallel</th>\n",
       "      <td>7.2</td>\n",
       "      <td>6.0</td>\n",
       "      <td>2.81</td>\n",
       "    </tr>\n",
       "    <tr>\n",
       "      <th>Scrubbing</th>\n",
       "      <td>24.0</td>\n",
       "      <td>20.0</td>\n",
       "      <td>18.03</td>\n",
       "    </tr>\n",
       "    <tr>\n",
       "      <th>Zero</th>\n",
       "      <td>1.2</td>\n",
       "      <td>1.0</td>\n",
       "      <td>1.20</td>\n",
       "    </tr>\n",
       "    <tr>\n",
       "      <th>deGauss</th>\n",
       "      <td>3.6</td>\n",
       "      <td>3.0</td>\n",
       "      <td>4.77</td>\n",
       "    </tr>\n",
       "    <tr>\n",
       "      <th>ECN3_D (1.2s)</th>\n",
       "      <td>7.2</td>\n",
       "      <td>6.0</td>\n",
       "      <td>34.88</td>\n",
       "    </tr>\n",
       "    <tr>\n",
       "      <th>ECN3_D (2.4s)</th>\n",
       "      <td>8.4</td>\n",
       "      <td>7.0</td>\n",
       "      <td>44.84</td>\n",
       "    </tr>\n",
       "    <tr>\n",
       "      <th>ECN3_D (4.8s)</th>\n",
       "      <td>10.8</td>\n",
       "      <td>9.0</td>\n",
       "      <td>52.83</td>\n",
       "    </tr>\n",
       "    <tr>\n",
       "      <th>ECN3_D (9.6s)</th>\n",
       "      <td>15.6</td>\n",
       "      <td>13.0</td>\n",
       "      <td>63.60</td>\n",
       "    </tr>\n",
       "    <tr>\n",
       "      <th>SFTPRO (1.2s)</th>\n",
       "      <td>7.2</td>\n",
       "      <td>6.0</td>\n",
       "      <td>34.88</td>\n",
       "    </tr>\n",
       "    <tr>\n",
       "      <th>SFTPRO (9.6s)</th>\n",
       "      <td>15.6</td>\n",
       "      <td>13.0</td>\n",
       "      <td>63.60</td>\n",
       "    </tr>\n",
       "    <tr>\n",
       "      <th>deGauss (3.6s)</th>\n",
       "      <td>3.6</td>\n",
       "      <td>3.0</td>\n",
       "      <td>4.77</td>\n",
       "    </tr>\n",
       "    <tr>\n",
       "      <th>deGauss (10.8s)</th>\n",
       "      <td>10.8</td>\n",
       "      <td>9.0</td>\n",
       "      <td>2.69</td>\n",
       "    </tr>\n",
       "    <tr>\n",
       "      <th>HIRADMT1</th>\n",
       "      <td>8.4</td>\n",
       "      <td>7.0</td>\n",
       "      <td>35.10</td>\n",
       "    </tr>\n",
       "    <tr>\n",
       "      <th>LHC1</th>\n",
       "      <td>27.6</td>\n",
       "      <td>23.0</td>\n",
       "      <td>15.72</td>\n",
       "    </tr>\n",
       "    <tr>\n",
       "      <th>LHCMD1</th>\n",
       "      <td>27.6</td>\n",
       "      <td>23.0</td>\n",
       "      <td>15.72</td>\n",
       "    </tr>\n",
       "    <tr>\n",
       "      <th>LHC4</th>\n",
       "      <td>13.2</td>\n",
       "      <td>11.0</td>\n",
       "      <td>32.50</td>\n",
       "    </tr>\n",
       "    <tr>\n",
       "      <th>LHCINDIV</th>\n",
       "      <td>20.4</td>\n",
       "      <td>17.0</td>\n",
       "      <td>20.40</td>\n",
       "    </tr>\n",
       "    <tr>\n",
       "      <th>LHC3</th>\n",
       "      <td>13.2</td>\n",
       "      <td>11.0</td>\n",
       "      <td>32.50</td>\n",
       "    </tr>\n",
       "    <tr>\n",
       "      <th>LHCION2</th>\n",
       "      <td>57.6</td>\n",
       "      <td>48.0</td>\n",
       "      <td>8.92</td>\n",
       "    </tr>\n",
       "    <tr>\n",
       "      <th>LHCION1</th>\n",
       "      <td>14.4</td>\n",
       "      <td>12.0</td>\n",
       "      <td>35.25</td>\n",
       "    </tr>\n",
       "    <tr>\n",
       "      <th>LHCION3</th>\n",
       "      <td>13.2</td>\n",
       "      <td>11.0</td>\n",
       "      <td>29.39</td>\n",
       "    </tr>\n",
       "    <tr>\n",
       "      <th>LHCMD2</th>\n",
       "      <td>8.4</td>\n",
       "      <td>7.0</td>\n",
       "      <td>6.43</td>\n",
       "    </tr>\n",
       "    <tr>\n",
       "      <th>MD3</th>\n",
       "      <td>26.4</td>\n",
       "      <td>22.0</td>\n",
       "      <td>5.07</td>\n",
       "    </tr>\n",
       "    <tr>\n",
       "      <th>LHC2</th>\n",
       "      <td>7.2</td>\n",
       "      <td>6.0</td>\n",
       "      <td>2.81</td>\n",
       "    </tr>\n",
       "    <tr>\n",
       "      <th>LHC50NS</th>\n",
       "      <td>7.2</td>\n",
       "      <td>6.0</td>\n",
       "      <td>2.97</td>\n",
       "    </tr>\n",
       "    <tr>\n",
       "      <th>LHCMD4</th>\n",
       "      <td>28.8</td>\n",
       "      <td>24.0</td>\n",
       "      <td>14.82</td>\n",
       "    </tr>\n",
       "    <tr>\n",
       "      <th>LHCMD3</th>\n",
       "      <td>28.8</td>\n",
       "      <td>24.0</td>\n",
       "      <td>20.09</td>\n",
       "    </tr>\n",
       "    <tr>\n",
       "      <th>MD2</th>\n",
       "      <td>6.0</td>\n",
       "      <td>5.0</td>\n",
       "      <td>9.92</td>\n",
       "    </tr>\n",
       "    <tr>\n",
       "      <th>SFTION2</th>\n",
       "      <td>21.6</td>\n",
       "      <td>18.0</td>\n",
       "      <td>0.36</td>\n",
       "    </tr>\n",
       "    <tr>\n",
       "      <th>SFTION1</th>\n",
       "      <td>25.2</td>\n",
       "      <td>21.0</td>\n",
       "      <td>33.80</td>\n",
       "    </tr>\n",
       "    <tr>\n",
       "      <th>MD4</th>\n",
       "      <td>7.2</td>\n",
       "      <td>6.0</td>\n",
       "      <td>4.89</td>\n",
       "    </tr>\n",
       "    <tr>\n",
       "      <th>SFTSHIP</th>\n",
       "      <td>10.8</td>\n",
       "      <td>9.0</td>\n",
       "      <td>52.84</td>\n",
       "    </tr>\n",
       "    <tr>\n",
       "      <th>SFTPRO2</th>\n",
       "      <td>10.8</td>\n",
       "      <td>9.0</td>\n",
       "      <td>52.70</td>\n",
       "    </tr>\n",
       "    <tr>\n",
       "      <th>LHCION4</th>\n",
       "      <td>13.2</td>\n",
       "      <td>11.0</td>\n",
       "      <td>29.39</td>\n",
       "    </tr>\n",
       "    <tr>\n",
       "      <th>SFTION4</th>\n",
       "      <td>21.6</td>\n",
       "      <td>18.0</td>\n",
       "      <td>0.36</td>\n",
       "    </tr>\n",
       "  </tbody>\n",
       "</table>\n",
       "</div>"
      ],
      "text/plain": [
       "                Length [s]   BPs Power (MB+MQ) [MW]\n",
       "AWAKE                  7.2   6.0              31.19\n",
       "HiRadMat              24.0  20.0              17.52\n",
       "SFTPRO                10.8   9.0              52.83\n",
       "LHC filling           24.0  20.0              18.03\n",
       "LHC pilot             13.2  11.0              32.50\n",
       "MD dedicated          24.0  20.0              18.03\n",
       "MD parallel            7.2   6.0               2.81\n",
       "Scrubbing             24.0  20.0              18.03\n",
       "Zero                   1.2   1.0               1.20\n",
       "deGauss                3.6   3.0               4.77\n",
       "ECN3_D (1.2s)          7.2   6.0              34.88\n",
       "ECN3_D (2.4s)          8.4   7.0              44.84\n",
       "ECN3_D (4.8s)         10.8   9.0              52.83\n",
       "ECN3_D (9.6s)         15.6  13.0              63.60\n",
       "SFTPRO (1.2s)          7.2   6.0              34.88\n",
       "SFTPRO (9.6s)         15.6  13.0              63.60\n",
       "deGauss (3.6s)         3.6   3.0               4.77\n",
       "deGauss (10.8s)       10.8   9.0               2.69\n",
       "HIRADMT1               8.4   7.0              35.10\n",
       "LHC1                  27.6  23.0              15.72\n",
       "LHCMD1                27.6  23.0              15.72\n",
       "LHC4                  13.2  11.0              32.50\n",
       "LHCINDIV              20.4  17.0              20.40\n",
       "LHC3                  13.2  11.0              32.50\n",
       "LHCION2               57.6  48.0               8.92\n",
       "LHCION1               14.4  12.0              35.25\n",
       "LHCION3               13.2  11.0              29.39\n",
       "LHCMD2                 8.4   7.0               6.43\n",
       "MD3                   26.4  22.0               5.07\n",
       "LHC2                   7.2   6.0               2.81\n",
       "LHC50NS                7.2   6.0               2.97\n",
       "LHCMD4                28.8  24.0              14.82\n",
       "LHCMD3                28.8  24.0              20.09\n",
       "MD2                    6.0   5.0               9.92\n",
       "SFTION2               21.6  18.0               0.36\n",
       "SFTION1               25.2  21.0              33.80\n",
       "MD4                    7.2   6.0               4.89\n",
       "SFTSHIP               10.8   9.0              52.84\n",
       "SFTPRO2               10.8   9.0              52.70\n",
       "LHCION4               13.2  11.0              29.39\n",
       "SFTION4               21.6  18.0               0.36"
      ]
     },
     "execution_count": 2,
     "metadata": {},
     "output_type": "execute_result"
    }
   ],
   "source": [
    "df_sps_cycles = cycles_to_dataframe(cnst.SPS_CYCLES)\n",
    "df_ps_cycles = cycles_to_dataframe(cnst.PS_CYCLES)\n",
    "df_psb_cycles = cycles_to_dataframe(cnst.PSB_CYCLES)\n",
    "df_sps_cycles"
   ]
  },
  {
   "cell_type": "markdown",
   "metadata": {},
   "source": [
    "# Supercycles modelling"
   ]
  },
  {
   "cell_type": "code",
   "execution_count": 3,
   "metadata": {},
   "outputs": [
    {
     "name": "stdout",
     "output_type": "stream",
     "text": [
      "Average power [MW]: 40.82\n",
      "Supercycle length [s]: 14.4\n",
      "Supercycle BPs: 12\n"
     ]
    },
    {
     "data": {
      "image/png": "[encoded data removed]",
      "text/plain": [
       "<Figure size 311.04x180 with 1 Axes>"
      ]
     },
     "metadata": {
      "needs_background": "light"
     },
     "output_type": "display_data"
    }
   ],
   "source": [
    "# Example of physics supercycle in the SPS\n",
    "SPS_physics_supercycle = SuperCycle('SPS', 'Physics', [cnst.SPS_CYCLES['SFTPRO'], cnst.SPS_CYCLES['deGauss']])\n",
    "print('Average power [MW]: %1.2f'%SPS_physics_supercycle.average_power)\n",
    "print('Supercycle length [s]: %1.1f'%SPS_physics_supercycle.length)\n",
    "print('Supercycle BPs: %i'%SPS_physics_supercycle.bps)\n",
    "\n",
    "plot_supercycle(SPS_physics_supercycle)"
   ]
  },
  {
   "cell_type": "code",
   "execution_count": 4,
   "metadata": {},
   "outputs": [
    {
     "name": "stdout",
     "output_type": "stream",
     "text": [
      "Allocated hours to supercycle: 1399.2\n",
      "Number of times the supercycle is played in the allocated time: 349800\n",
      "Free BPs per supercycle: 10\n",
      "Total free BPs in the allocated time: 3498000\n"
     ]
    }
   ],
   "source": [
    "# Allocates some hours/year to the supercycle\n",
    "# Machine availability is assumed to be 80%\n",
    "SPS_physics_supercycle.allocate_hours(cnst.SPS_SUPERCYCLES_TIME_SHARING_HOURS['Protons only']['Physics'], machine_availability=0.8)\n",
    "print('Allocated hours to supercycle: %1.1f'%SPS_physics_supercycle.allocated_hours)\n",
    "print('Number of times the supercycle is played in the allocated time: %i'%SPS_physics_supercycle.number_of_supercycles_played)\n",
    "\n",
    "# Calculates free BPs for the injectors (i.e. here PS)\n",
    "SPS_physics_supercycle.calculate_free_bps()\n",
    "print('Free BPs per supercycle: %i'%SPS_physics_supercycle.free_bps_per_supercycle)\n",
    "print('Total free BPs in the allocated time: %i'%SPS_physics_supercycle.free_bps_total)"
   ]
  },
  {
   "cell_type": "markdown",
   "metadata": {},
   "source": [
    "# Typical SPS supercycle scenario"
   ]
  },
  {
   "cell_type": "code",
   "execution_count": 5,
   "metadata": {},
   "outputs": [],
   "source": [
    "SPS_supercycles_scenario = {\n",
    "    'AWAKE': SuperCycle('SPS', 'AWAKE', \n",
    "                        [cnst.SPS_CYCLES['AWAKE'], cnst.SPS_CYCLES['SFTPRO'], cnst.SPS_CYCLES['deGauss']]),\n",
    "    'AWAKE with parallel MD': SuperCycle('SPS', 'AWAKE with parallel MD', \n",
    "                                         [cnst.SPS_CYCLES['AWAKE'], cnst.SPS_CYCLES['MD parallel'], cnst.SPS_CYCLES['SFTPRO']]),\n",
    "    'Dedicated MD': SuperCycle('SPS', 'Dedicated MD', \n",
    "                               [cnst.SPS_CYCLES['MD dedicated']]),\n",
    "    'HiRadMat': SuperCycle('SPS', 'HiRadMat', \n",
    "                           [cnst.SPS_CYCLES['HiRadMat'], cnst.SPS_CYCLES['SFTPRO'], cnst.SPS_CYCLES['deGauss']]),\n",
    "    'LHC filling': SuperCycle('SPS', 'LHC filling', \n",
    "                              [cnst.SPS_CYCLES['LHC filling'], cnst.SPS_CYCLES['SFTPRO'], cnst.SPS_CYCLES['deGauss']]),\n",
    "    'LHC setup': SuperCycle('SPS', 'LHC setup', \n",
    "                            [cnst.SPS_CYCLES['LHC pilot'], cnst.SPS_CYCLES['SFTPRO'], cnst.SPS_CYCLES['deGauss']]),\n",
    "    'Physics': SuperCycle('SPS', 'Physics', \n",
    "                          [cnst.SPS_CYCLES['SFTPRO'], cnst.SPS_CYCLES['deGauss']]),\n",
    "    'Physics with parallel MD': SuperCycle('SPS', 'Physics with parallel MD', \n",
    "                                           [cnst.SPS_CYCLES['MD parallel'], cnst.SPS_CYCLES['SFTPRO']]),\n",
    "    'Scrubbing': SuperCycle('SPS', 'Scrubbing', \n",
    "                            [cnst.SPS_CYCLES['Scrubbing'], cnst.SPS_CYCLES['SFTPRO'], cnst.SPS_CYCLES['deGauss']]),\n",
    "    'Thursday MD': SuperCycle('SPS', 'Thursday MD', \n",
    "                              [cnst.SPS_CYCLES['MD dedicated'], cnst.SPS_CYCLES['SFTPRO'], cnst.SPS_CYCLES['deGauss']]),\n",
    "}"
   ]
  },
  {
   "cell_type": "code",
   "execution_count": 6,
   "metadata": {},
   "outputs": [
    {
     "name": "stderr",
     "output_type": "stream",
     "text": [
      "/eos/home-t/tprebiba/Fellowship/00_Time_Sharing_SPS/03_protons_PSB-PS/super-cycle-modelling/helpers.py:57: FutureWarning: The behavior of DataFrame concatenation with empty or all-NA entries is deprecated. In a future version, this will no longer exclude empty or all-NA columns when determining the result dtypes. To retain the old behavior, exclude the relevant entries before the concat operation.\n",
      "  df = df._append(pnd.Series(name=supercycle,data=data))\n"
     ]
    },
    {
     "data": {
      "text/html": [
       "<div>\n",
       "<style scoped>\n",
       "    .dataframe tbody tr th:only-of-type {\n",
       "        vertical-align: middle;\n",
       "    }\n",
       "\n",
       "    .dataframe tbody tr th {\n",
       "        vertical-align: top;\n",
       "    }\n",
       "\n",
       "    .dataframe thead th {\n",
       "        text-align: right;\n",
       "    }\n",
       "</style>\n",
       "<table border=\"1\" class=\"dataframe\">\n",
       "  <thead>\n",
       "    <tr style=\"text-align: right;\">\n",
       "      <th></th>\n",
       "      <th>AWAKE</th>\n",
       "      <th>HiRadMat</th>\n",
       "      <th>LHC filling</th>\n",
       "      <th>LHC pilot</th>\n",
       "      <th>MD dedicated</th>\n",
       "      <th>MD parallel</th>\n",
       "      <th>SFTPRO</th>\n",
       "      <th>Scrubbing</th>\n",
       "      <th>deGauss</th>\n",
       "      <th>Length [s]</th>\n",
       "      <th>Power [MW]</th>\n",
       "    </tr>\n",
       "  </thead>\n",
       "  <tbody>\n",
       "    <tr>\n",
       "      <th>AWAKE</th>\n",
       "      <td>1</td>\n",
       "      <td>-</td>\n",
       "      <td>-</td>\n",
       "      <td>-</td>\n",
       "      <td>-</td>\n",
       "      <td>-</td>\n",
       "      <td>1</td>\n",
       "      <td>-</td>\n",
       "      <td>1</td>\n",
       "      <td>21.6</td>\n",
       "      <td>37.61</td>\n",
       "    </tr>\n",
       "    <tr>\n",
       "      <th>AWAKE with parallel MD</th>\n",
       "      <td>1</td>\n",
       "      <td>-</td>\n",
       "      <td>-</td>\n",
       "      <td>-</td>\n",
       "      <td>-</td>\n",
       "      <td>1</td>\n",
       "      <td>1</td>\n",
       "      <td>-</td>\n",
       "      <td>-</td>\n",
       "      <td>25.2</td>\n",
       "      <td>32.36</td>\n",
       "    </tr>\n",
       "    <tr>\n",
       "      <th>Dedicated MD</th>\n",
       "      <td>-</td>\n",
       "      <td>-</td>\n",
       "      <td>-</td>\n",
       "      <td>-</td>\n",
       "      <td>1</td>\n",
       "      <td>-</td>\n",
       "      <td>-</td>\n",
       "      <td>-</td>\n",
       "      <td>-</td>\n",
       "      <td>24.0</td>\n",
       "      <td>18.03</td>\n",
       "    </tr>\n",
       "    <tr>\n",
       "      <th>HiRadMat</th>\n",
       "      <td>-</td>\n",
       "      <td>1</td>\n",
       "      <td>-</td>\n",
       "      <td>-</td>\n",
       "      <td>-</td>\n",
       "      <td>-</td>\n",
       "      <td>1</td>\n",
       "      <td>-</td>\n",
       "      <td>1</td>\n",
       "      <td>38.4</td>\n",
       "      <td>26.26</td>\n",
       "    </tr>\n",
       "    <tr>\n",
       "      <th>LHC filling</th>\n",
       "      <td>-</td>\n",
       "      <td>-</td>\n",
       "      <td>1</td>\n",
       "      <td>-</td>\n",
       "      <td>-</td>\n",
       "      <td>-</td>\n",
       "      <td>1</td>\n",
       "      <td>-</td>\n",
       "      <td>1</td>\n",
       "      <td>38.4</td>\n",
       "      <td>26.57</td>\n",
       "    </tr>\n",
       "    <tr>\n",
       "      <th>LHC setup</th>\n",
       "      <td>-</td>\n",
       "      <td>-</td>\n",
       "      <td>-</td>\n",
       "      <td>1</td>\n",
       "      <td>-</td>\n",
       "      <td>-</td>\n",
       "      <td>1</td>\n",
       "      <td>-</td>\n",
       "      <td>1</td>\n",
       "      <td>27.6</td>\n",
       "      <td>36.84</td>\n",
       "    </tr>\n",
       "    <tr>\n",
       "      <th>Physics</th>\n",
       "      <td>-</td>\n",
       "      <td>-</td>\n",
       "      <td>-</td>\n",
       "      <td>-</td>\n",
       "      <td>-</td>\n",
       "      <td>-</td>\n",
       "      <td>1</td>\n",
       "      <td>-</td>\n",
       "      <td>1</td>\n",
       "      <td>14.4</td>\n",
       "      <td>40.82</td>\n",
       "    </tr>\n",
       "    <tr>\n",
       "      <th>Physics with parallel MD</th>\n",
       "      <td>-</td>\n",
       "      <td>-</td>\n",
       "      <td>-</td>\n",
       "      <td>-</td>\n",
       "      <td>-</td>\n",
       "      <td>1</td>\n",
       "      <td>1</td>\n",
       "      <td>-</td>\n",
       "      <td>-</td>\n",
       "      <td>18.0</td>\n",
       "      <td>32.82</td>\n",
       "    </tr>\n",
       "    <tr>\n",
       "      <th>Scrubbing</th>\n",
       "      <td>-</td>\n",
       "      <td>-</td>\n",
       "      <td>-</td>\n",
       "      <td>-</td>\n",
       "      <td>-</td>\n",
       "      <td>-</td>\n",
       "      <td>1</td>\n",
       "      <td>1</td>\n",
       "      <td>1</td>\n",
       "      <td>38.4</td>\n",
       "      <td>26.57</td>\n",
       "    </tr>\n",
       "    <tr>\n",
       "      <th>Thursday MD</th>\n",
       "      <td>-</td>\n",
       "      <td>-</td>\n",
       "      <td>-</td>\n",
       "      <td>-</td>\n",
       "      <td>1</td>\n",
       "      <td>-</td>\n",
       "      <td>1</td>\n",
       "      <td>-</td>\n",
       "      <td>1</td>\n",
       "      <td>38.4</td>\n",
       "      <td>26.57</td>\n",
       "    </tr>\n",
       "  </tbody>\n",
       "</table>\n",
       "</div>"
      ],
      "text/plain": [
       "                         AWAKE HiRadMat LHC filling LHC pilot MD dedicated  \\\n",
       "AWAKE                        1        -           -         -            -   \n",
       "AWAKE with parallel MD       1        -           -         -            -   \n",
       "Dedicated MD                 -        -           -         -            1   \n",
       "HiRadMat                     -        1           -         -            -   \n",
       "LHC filling                  -        -           1         -            -   \n",
       "LHC setup                    -        -           -         1            -   \n",
       "Physics                      -        -           -         -            -   \n",
       "Physics with parallel MD     -        -           -         -            -   \n",
       "Scrubbing                    -        -           -         -            -   \n",
       "Thursday MD                  -        -           -         -            1   \n",
       "\n",
       "                         MD parallel SFTPRO Scrubbing deGauss  Length [s]  \\\n",
       "AWAKE                              -      1         -       1        21.6   \n",
       "AWAKE with parallel MD             1      1         -       -        25.2   \n",
       "Dedicated MD                       -      -         -       -        24.0   \n",
       "HiRadMat                           -      1         -       1        38.4   \n",
       "LHC filling                        -      1         -       1        38.4   \n",
       "LHC setup                          -      1         -       1        27.6   \n",
       "Physics                            -      1         -       1        14.4   \n",
       "Physics with parallel MD           1      1         -       -        18.0   \n",
       "Scrubbing                          -      1         1       1        38.4   \n",
       "Thursday MD                        -      1         -       1        38.4   \n",
       "\n",
       "                          Power [MW]  \n",
       "AWAKE                          37.61  \n",
       "AWAKE with parallel MD         32.36  \n",
       "Dedicated MD                   18.03  \n",
       "HiRadMat                       26.26  \n",
       "LHC filling                    26.57  \n",
       "LHC setup                      36.84  \n",
       "Physics                        40.82  \n",
       "Physics with parallel MD       32.82  \n",
       "Scrubbing                      26.57  \n",
       "Thursday MD                    26.57  "
      ]
     },
     "execution_count": 6,
     "metadata": {},
     "output_type": "execute_result"
    }
   ],
   "source": [
    "df_sps_supercycles_scenario = supercycles_scenario_to_dataframe(SPS_supercycles_scenario)\n",
    "df_sps_supercycles_scenario"
   ]
  },
  {
   "cell_type": "code",
   "execution_count": 7,
   "metadata": {},
   "outputs": [
    {
     "data": {
      "image/png": "[encoded data removed]",
      "text/plain": [
       "<Figure size 466.56x180 with 1 Axes>"
      ]
     },
     "metadata": {
      "needs_background": "light"
     },
     "output_type": "display_data"
    },
    {
     "name": "stderr",
     "output_type": "stream",
     "text": [
      "/eos/home-t/tprebiba/Fellowship/00_Time_Sharing_SPS/03_protons_PSB-PS/super-cycle-modelling/classes.py:142: UserWarning: Number of supercycles played not calculated yet, needs to call allocate_hours method first.\n",
      "  warnings.warn('Number of supercycles played not calculated yet, needs to call allocate_hours method first.')\n"
     ]
    },
    {
     "name": "stdout",
     "output_type": "stream",
     "text": [
      "Free BPs per supercycle: 14\n"
     ]
    },
    {
     "data": {
      "image/png": "[encoded data removed]",
      "text/plain": [
       "<Figure size 544.32x180 with 1 Axes>"
      ]
     },
     "metadata": {
      "needs_background": "light"
     },
     "output_type": "display_data"
    },
    {
     "name": "stdout",
     "output_type": "stream",
     "text": [
      "Free BPs per supercycle: 15\n"
     ]
    },
    {
     "data": {
      "image/png": "[encoded data removed]",
      "text/plain": [
       "<Figure size 518.4x180 with 1 Axes>"
      ]
     },
     "metadata": {
      "needs_background": "light"
     },
     "output_type": "display_data"
    },
    {
     "name": "stdout",
     "output_type": "stream",
     "text": [
      "Free BPs per supercycle: 8\n"
     ]
    },
    {
     "data": {
      "image/png": "[encoded data removed]",
      "text/plain": [
       "<Figure size 829.44x180 with 1 Axes>"
      ]
     },
     "metadata": {
      "needs_background": "light"
     },
     "output_type": "display_data"
    },
    {
     "name": "stdout",
     "output_type": "stream",
     "text": [
      "Free BPs per supercycle: 18\n"
     ]
    },
    {
     "data": {
      "image/png": "[encoded data removed]",
      "text/plain": [
       "<Figure size 829.44x180 with 1 Axes>"
      ]
     },
     "metadata": {
      "needs_background": "light"
     },
     "output_type": "display_data"
    },
    {
     "name": "stdout",
     "output_type": "stream",
     "text": [
      "Free BPs per supercycle: 18\n"
     ]
    }
   ],
   "source": [
    "for sps_supercycle in list(SPS_supercycles_scenario.values())[0:5]:\n",
    "    plot_supercycle(sps_supercycle)\n",
    "    sps_supercycle.calculate_free_bps()\n",
    "    print('Free BPs per supercycle: %i'%sps_supercycle.free_bps_per_supercycle)"
   ]
  },
  {
   "cell_type": "code",
   "execution_count": 8,
   "metadata": {},
   "outputs": [
    {
     "name": "stdout",
     "output_type": "stream",
     "text": [
      "*~*~*~*~*~*~*~*~*~*~*~*~*~*~*~*~*~*~*~*~*~*~*~*~*~*~*~*~*~*~*\n",
      "AWAKE\n",
      "Supercycle BPs: 18\n",
      "Free BPs per supercycle: 14\n",
      "Allocated hours to supercycle: 443.9\n",
      "Number of times the supercycle is played in the allocated time: 73990\n",
      "Total free BPs in the allocated time: 1035860\n",
      "*~*~*~*~*~*~*~*~*~*~*~*~*~*~*~*~*~*~*~*~*~*~*~*~*~*~*~*~*~*~*\n",
      "AWAKE with parallel MD\n",
      "Supercycle BPs: 21\n",
      "Free BPs per supercycle: 15\n",
      "Allocated hours to supercycle: 160.9\n",
      "Number of times the supercycle is played in the allocated time: 22980\n",
      "Total free BPs in the allocated time: 344700\n",
      "*~*~*~*~*~*~*~*~*~*~*~*~*~*~*~*~*~*~*~*~*~*~*~*~*~*~*~*~*~*~*\n",
      "Dedicated MD\n",
      "Supercycle BPs: 20\n",
      "Free BPs per supercycle: 8\n",
      "Allocated hours to supercycle: 222.0\n",
      "Number of times the supercycle is played in the allocated time: 33300\n",
      "Total free BPs in the allocated time: 266400\n",
      "*~*~*~*~*~*~*~*~*~*~*~*~*~*~*~*~*~*~*~*~*~*~*~*~*~*~*~*~*~*~*\n",
      "HiRadMat\n",
      "Supercycle BPs: 32\n",
      "Free BPs per supercycle: 18\n",
      "Allocated hours to supercycle: 144.0\n",
      "Number of times the supercycle is played in the allocated time: 13500\n",
      "Total free BPs in the allocated time: 243000\n",
      "*~*~*~*~*~*~*~*~*~*~*~*~*~*~*~*~*~*~*~*~*~*~*~*~*~*~*~*~*~*~*\n",
      "LHC filling\n",
      "Supercycle BPs: 32\n",
      "Free BPs per supercycle: 18\n",
      "Allocated hours to supercycle: 698.4\n",
      "Number of times the supercycle is played in the allocated time: 65475\n",
      "Total free BPs in the allocated time: 1178550\n",
      "*~*~*~*~*~*~*~*~*~*~*~*~*~*~*~*~*~*~*~*~*~*~*~*~*~*~*~*~*~*~*\n",
      "LHC setup\n",
      "Supercycle BPs: 23\n",
      "Free BPs per supercycle: 17\n",
      "Allocated hours to supercycle: 465.6\n",
      "Number of times the supercycle is played in the allocated time: 60730\n",
      "Total free BPs in the allocated time: 1032417\n",
      "*~*~*~*~*~*~*~*~*~*~*~*~*~*~*~*~*~*~*~*~*~*~*~*~*~*~*~*~*~*~*\n",
      "Physics\n",
      "Supercycle BPs: 12\n",
      "Free BPs per supercycle: 10\n",
      "Allocated hours to supercycle: 1399.2\n",
      "Number of times the supercycle is played in the allocated time: 349800\n",
      "Total free BPs in the allocated time: 3498000\n",
      "*~*~*~*~*~*~*~*~*~*~*~*~*~*~*~*~*~*~*~*~*~*~*~*~*~*~*~*~*~*~*\n",
      "Physics with parallel MD\n",
      "Supercycle BPs: 15\n",
      "Free BPs per supercycle: 11\n",
      "Allocated hours to supercycle: 928.8\n",
      "Number of times the supercycle is played in the allocated time: 185760\n",
      "Total free BPs in the allocated time: 2043360\n",
      "*~*~*~*~*~*~*~*~*~*~*~*~*~*~*~*~*~*~*~*~*~*~*~*~*~*~*~*~*~*~*\n",
      "Scrubbing\n",
      "Supercycle BPs: 32\n",
      "Free BPs per supercycle: 18\n",
      "Allocated hours to supercycle: 43.2\n",
      "Number of times the supercycle is played in the allocated time: 4050\n",
      "Total free BPs in the allocated time: 72900\n",
      "*~*~*~*~*~*~*~*~*~*~*~*~*~*~*~*~*~*~*~*~*~*~*~*~*~*~*~*~*~*~*\n",
      "Thursday MD\n",
      "Supercycle BPs: 32\n",
      "Free BPs per supercycle: 18\n",
      "Allocated hours to supercycle: 150.0\n",
      "Number of times the supercycle is played in the allocated time: 14062\n",
      "Total free BPs in the allocated time: 253125\n"
     ]
    }
   ],
   "source": [
    "PS_bps_total = 0\n",
    "PS_free_bps_total = 0\n",
    "for sps_supercycle in SPS_supercycles_scenario.values():\n",
    "    \n",
    "    sps_supercycle.allocate_hours(cnst.SPS_SUPERCYCLES_TIME_SHARING_HOURS['Protons only'][sps_supercycle.name], machine_availability=0.8)\n",
    "    sps_supercycle.calculate_free_bps()\n",
    "\n",
    "    print('*~*~*~*~*~*~*~*~*~*~*~*~*~*~*~*~*~*~*~*~*~*~*~*~*~*~*~*~*~*~*')\n",
    "    print(sps_supercycle.name)\n",
    "    print('Supercycle BPs: %i'%sps_supercycle.bps)\n",
    "    print('Free BPs per supercycle: %i'%sps_supercycle.free_bps_per_supercycle)\n",
    "    print('Allocated hours to supercycle: %1.1f'%sps_supercycle.allocated_hours)\n",
    "    print('Number of times the supercycle is played in the allocated time: %i'%sps_supercycle.number_of_supercycles_played)\n",
    "    print('Total free BPs in the allocated time: %i'%sps_supercycle.free_bps_total)\n",
    "\n",
    "    PS_bps_total += sps_supercycle.allocated_bps\n",
    "    PS_free_bps_total += sps_supercycle.free_bps_total"
   ]
  },
  {
   "cell_type": "code",
   "execution_count": 9,
   "metadata": {},
   "outputs": [
    {
     "name": "stdout",
     "output_type": "stream",
     "text": [
      "Total BPs in the PS: 13968000\n",
      "Total free BPs in the PS: 9968312\n",
      "Percentage of free BPs in the PS: 71.37\n"
     ]
    }
   ],
   "source": [
    "print('Total BPs in the PS: %i'%PS_bps_total)\n",
    "print('Total free BPs in the PS: %i'%PS_free_bps_total)\n",
    "percentage_of_free_BPs = PS_free_bps_total/PS_bps_total*100\n",
    "print('Percentage of free BPs in the PS: %1.2f'%percentage_of_free_BPs)"
   ]
  },
  {
   "cell_type": "markdown",
   "metadata": {},
   "source": [
    "# Future SPS supercycle scenario"
   ]
  },
  {
   "cell_type": "code",
   "execution_count": 10,
   "metadata": {},
   "outputs": [
    {
     "name": "stdout",
     "output_type": "stream",
     "text": [
      "Average power [MW]: 36.86\n",
      "Supercycle length [s]: 43.2\n",
      "Supercycle BPs: 36\n"
     ]
    },
    {
     "data": {
      "image/png": "[encoded data removed]",
      "text/plain": [
       "<Figure size 933.12x180 with 1 Axes>"
      ]
     },
     "metadata": {
      "needs_background": "light"
     },
     "output_type": "display_data"
    },
    {
     "name": "stdout",
     "output_type": "stream",
     "text": [
      "Allocated hours to supercycle: 1399.2\n",
      "Number of times the supercycle is played in the allocated time: 116599\n",
      "Free BPs per supercycle: 26\n",
      "Total free BPs in the allocated time: 3031599\n"
     ]
    }
   ],
   "source": [
    "SPS_future_physics_supercycle = SuperCycle('SPS', 'Physics', [cnst.SPS_CYCLES['SFTPRO'], cnst.SPS_CYCLES['deGauss'], cnst.SPS_CYCLES['ECN3_D (1.2s)'], cnst.SPS_CYCLES['ECN3_D (1.2s)'], cnst.SPS_CYCLES['ECN3_D (1.2s)'], cnst.SPS_CYCLES['ECN3_D (1.2s)']])\n",
    "print('Average power [MW]: %1.2f'%SPS_future_physics_supercycle.average_power)\n",
    "print('Supercycle length [s]: %1.1f'%SPS_future_physics_supercycle.length)\n",
    "print('Supercycle BPs: %i'%SPS_future_physics_supercycle.bps)\n",
    "\n",
    "plot_supercycle(SPS_future_physics_supercycle)\n",
    "\n",
    "SPS_future_physics_supercycle.allocate_hours(cnst.SPS_SUPERCYCLES_TIME_SHARING_HOURS['Protons only']['Physics'], machine_availability=0.8)\n",
    "print('Allocated hours to supercycle: %1.1f'%SPS_future_physics_supercycle.allocated_hours)\n",
    "print('Number of times the supercycle is played in the allocated time: %i'%SPS_future_physics_supercycle.number_of_supercycles_played)\n",
    "\n",
    "SPS_future_physics_supercycle.calculate_free_bps()\n",
    "print('Free BPs per supercycle: %i'%SPS_future_physics_supercycle.free_bps_per_supercycle)\n",
    "print('Total free BPs in the allocated time: %i'%SPS_future_physics_supercycle.free_bps_total)"
   ]
  },
  {
   "cell_type": "code",
   "execution_count": 11,
   "metadata": {},
   "outputs": [],
   "source": [
    "SPS_supercycles_future_scenario = {\n",
    "    'AWAKE': SuperCycle('SPS', 'AWAKE', \n",
    "                        [cnst.SPS_CYCLES['AWAKE'], cnst.SPS_CYCLES['AWAKE'], cnst.SPS_CYCLES['ECN3_D (1.2s)'], cnst.SPS_CYCLES['ECN3_D (1.2s)'], cnst.SPS_CYCLES['ECN3_D (1.2s)'], cnst.SPS_CYCLES['SFTPRO'], cnst.SPS_CYCLES['deGauss']]),\n",
    "    'AWAKE with parallel MD': SuperCycle('SPS', 'AWAKE with parallel MD', \n",
    "                                         [cnst.SPS_CYCLES['AWAKE'], cnst.SPS_CYCLES['AWAKE'], cnst.SPS_CYCLES['ECN3_D (1.2s)'], cnst.SPS_CYCLES['ECN3_D (1.2s)'], cnst.SPS_CYCLES['ECN3_D (1.2s)'], cnst.SPS_CYCLES['MD parallel'], cnst.SPS_CYCLES['SFTPRO']]),\n",
    "    'Dedicated MD': SuperCycle('SPS', 'Dedicated MD', \n",
    "                               [cnst.SPS_CYCLES['MD dedicated']]),\n",
    "    'HiRadMat': SuperCycle('SPS', 'HiRadMat', \n",
    "                           [cnst.SPS_CYCLES['HiRadMat'], cnst.SPS_CYCLES['ECN3_D (1.2s)'], cnst.SPS_CYCLES['ECN3_D (1.2s)'], cnst.SPS_CYCLES['ECN3_D (1.2s)'], cnst.SPS_CYCLES['ECN3_D (1.2s)']]),\n",
    "    'LHC filling': SuperCycle('SPS', 'LHC filling', \n",
    "                              [cnst.SPS_CYCLES['LHC filling'], cnst.SPS_CYCLES['ECN3_D (1.2s)']]),\n",
    "    'LHC setup': SuperCycle('SPS', 'LHC setup', \n",
    "                            [cnst.SPS_CYCLES['LHC pilot'], cnst.SPS_CYCLES['ECN3_D (1.2s)'], cnst.SPS_CYCLES['ECN3_D (1.2s)'], cnst.SPS_CYCLES['ECN3_D (1.2s)'], cnst.SPS_CYCLES['ECN3_D (1.2s)']]),\n",
    "    'Physics': SuperCycle('SPS', 'Physics', \n",
    "                          [cnst.SPS_CYCLES['SFTPRO'], cnst.SPS_CYCLES['deGauss'], cnst.SPS_CYCLES['ECN3_D (1.2s)'], cnst.SPS_CYCLES['ECN3_D (1.2s)'], cnst.SPS_CYCLES['ECN3_D (1.2s)'], cnst.SPS_CYCLES['ECN3_D (1.2s)']]),\n",
    "    'Physics with parallel MD': SuperCycle('SPS', 'Physics with parallel MD', \n",
    "                                           [cnst.SPS_CYCLES['MD parallel'], cnst.SPS_CYCLES['SFTPRO'], cnst.SPS_CYCLES['ECN3_D (1.2s)'], cnst.SPS_CYCLES['ECN3_D (1.2s)'], cnst.SPS_CYCLES['ECN3_D (1.2s)'], cnst.SPS_CYCLES['ECN3_D (1.2s)']]),\n",
    "    'Scrubbing': SuperCycle('SPS', 'Scrubbing', \n",
    "                            [cnst.SPS_CYCLES['Scrubbing'], cnst.SPS_CYCLES['SFTPRO']]),\n",
    "    'Thursday MD': SuperCycle('SPS', 'Thursday MD', \n",
    "                              [cnst.SPS_CYCLES['MD dedicated'], cnst.SPS_CYCLES['SFTPRO'], cnst.SPS_CYCLES['deGauss'], cnst.SPS_CYCLES['ECN3_D (1.2s)'], cnst.SPS_CYCLES['ECN3_D (1.2s)']]),\n",
    "}"
   ]
  },
  {
   "cell_type": "code",
   "execution_count": 12,
   "metadata": {},
   "outputs": [
    {
     "name": "stdout",
     "output_type": "stream",
     "text": [
      "*~*~*~*~*~*~*~*~*~*~*~*~*~*~*~*~*~*~*~*~*~*~*~*~*~*~*~*~*~*~*\n",
      "AWAKE\n",
      "Supercycle BPs: 42\n",
      "Free BPs per supercycle: 30\n",
      "Allocated hours to supercycle: 443.9\n",
      "Number of times the supercycle is played in the allocated time: 31710\n",
      "Total free BPs in the allocated time: 951300\n",
      "*~*~*~*~*~*~*~*~*~*~*~*~*~*~*~*~*~*~*~*~*~*~*~*~*~*~*~*~*~*~*\n",
      "AWAKE with parallel MD\n",
      "Supercycle BPs: 45\n",
      "Free BPs per supercycle: 31\n",
      "Allocated hours to supercycle: 160.9\n",
      "Number of times the supercycle is played in the allocated time: 10724\n",
      "Total free BPs in the allocated time: 332444\n",
      "*~*~*~*~*~*~*~*~*~*~*~*~*~*~*~*~*~*~*~*~*~*~*~*~*~*~*~*~*~*~*\n",
      "Dedicated MD\n",
      "Supercycle BPs: 20\n",
      "Free BPs per supercycle: 8\n",
      "Allocated hours to supercycle: 222.0\n",
      "Number of times the supercycle is played in the allocated time: 33300\n",
      "Total free BPs in the allocated time: 266400\n",
      "*~*~*~*~*~*~*~*~*~*~*~*~*~*~*~*~*~*~*~*~*~*~*~*~*~*~*~*~*~*~*\n",
      "HiRadMat\n",
      "Supercycle BPs: 44\n",
      "Free BPs per supercycle: 24\n",
      "Allocated hours to supercycle: 144.0\n",
      "Number of times the supercycle is played in the allocated time: 9818\n",
      "Total free BPs in the allocated time: 235636\n",
      "*~*~*~*~*~*~*~*~*~*~*~*~*~*~*~*~*~*~*~*~*~*~*~*~*~*~*~*~*~*~*\n",
      "LHC filling\n",
      "Supercycle BPs: 26\n",
      "Free BPs per supercycle: 12\n",
      "Allocated hours to supercycle: 698.4\n",
      "Number of times the supercycle is played in the allocated time: 80584\n",
      "Total free BPs in the allocated time: 967015\n",
      "*~*~*~*~*~*~*~*~*~*~*~*~*~*~*~*~*~*~*~*~*~*~*~*~*~*~*~*~*~*~*\n",
      "LHC setup\n",
      "Supercycle BPs: 35\n",
      "Free BPs per supercycle: 23\n",
      "Allocated hours to supercycle: 465.6\n",
      "Number of times the supercycle is played in the allocated time: 39908\n",
      "Total free BPs in the allocated time: 917897\n",
      "*~*~*~*~*~*~*~*~*~*~*~*~*~*~*~*~*~*~*~*~*~*~*~*~*~*~*~*~*~*~*\n",
      "Physics\n",
      "Supercycle BPs: 36\n",
      "Free BPs per supercycle: 26\n",
      "Allocated hours to supercycle: 1399.2\n",
      "Number of times the supercycle is played in the allocated time: 116599\n",
      "Total free BPs in the allocated time: 3031599\n",
      "*~*~*~*~*~*~*~*~*~*~*~*~*~*~*~*~*~*~*~*~*~*~*~*~*~*~*~*~*~*~*\n",
      "Physics with parallel MD\n",
      "Supercycle BPs: 39\n",
      "Free BPs per supercycle: 27\n",
      "Allocated hours to supercycle: 928.8\n",
      "Number of times the supercycle is played in the allocated time: 71446\n",
      "Total free BPs in the allocated time: 1929046\n",
      "*~*~*~*~*~*~*~*~*~*~*~*~*~*~*~*~*~*~*~*~*~*~*~*~*~*~*~*~*~*~*\n",
      "Scrubbing\n",
      "Supercycle BPs: 29\n",
      "Free BPs per supercycle: 15\n",
      "Allocated hours to supercycle: 43.2\n",
      "Number of times the supercycle is played in the allocated time: 4468\n",
      "Total free BPs in the allocated time: 67034\n",
      "*~*~*~*~*~*~*~*~*~*~*~*~*~*~*~*~*~*~*~*~*~*~*~*~*~*~*~*~*~*~*\n",
      "Thursday MD\n",
      "Supercycle BPs: 44\n",
      "Free BPs per supercycle: 26\n",
      "Allocated hours to supercycle: 150.0\n",
      "Number of times the supercycle is played in the allocated time: 10227\n",
      "Total free BPs in the allocated time: 265909\n"
     ]
    }
   ],
   "source": [
    "PS_bps_total_future = 0\n",
    "PS_free_bps_total_future = 0\n",
    "for sps_supercycle in SPS_supercycles_future_scenario.values():\n",
    "    \n",
    "    sps_supercycle.allocate_hours(cnst.SPS_SUPERCYCLES_TIME_SHARING_HOURS['Protons only'][sps_supercycle.name], machine_availability=0.8)\n",
    "    sps_supercycle.calculate_free_bps()\n",
    "\n",
    "    print('*~*~*~*~*~*~*~*~*~*~*~*~*~*~*~*~*~*~*~*~*~*~*~*~*~*~*~*~*~*~*')\n",
    "    print(sps_supercycle.name)\n",
    "    print('Supercycle BPs: %i'%sps_supercycle.bps)\n",
    "    print('Free BPs per supercycle: %i'%sps_supercycle.free_bps_per_supercycle)\n",
    "    print('Allocated hours to supercycle: %1.1f'%sps_supercycle.allocated_hours)\n",
    "    print('Number of times the supercycle is played in the allocated time: %i'%sps_supercycle.number_of_supercycles_played)\n",
    "    print('Total free BPs in the allocated time: %i'%sps_supercycle.free_bps_total)\n",
    "\n",
    "    PS_bps_total_future += sps_supercycle.allocated_bps\n",
    "    PS_free_bps_total_future += sps_supercycle.free_bps_total"
   ]
  },
  {
   "cell_type": "code",
   "execution_count": 13,
   "metadata": {},
   "outputs": [
    {
     "name": "stdout",
     "output_type": "stream",
     "text": [
      "Total BPs in the PS: 13968000\n",
      "Total free BPs in the PS: 8964282\n",
      "Percentage of free BPs in the PS: 64.18\n"
     ]
    }
   ],
   "source": [
    "print('Total BPs in the PS: %i'%PS_bps_total_future)\n",
    "print('Total free BPs in the PS: %i'%PS_free_bps_total_future)\n",
    "percentage_of_free_BPs_future = PS_free_bps_total_future/PS_bps_total_future*100\n",
    "print('Percentage of free BPs in the PS: %1.2f'%percentage_of_free_BPs_future)"
   ]
  },
  {
   "cell_type": "code",
   "execution_count": 14,
   "metadata": {},
   "outputs": [
    {
     "name": "stdout",
     "output_type": "stream",
     "text": [
      "If the future supercycle scenario is considered, the percentage of free BPs in the PS decreases by: 7.2 percent\n"
     ]
    }
   ],
   "source": [
    "print('If the future supercycle scenario is considered, the percentage of free BPs in the PS decreases by: %1.1f percent'%(percentage_of_free_BPs - percentage_of_free_BPs_future))"
   ]
  },
  {
   "cell_type": "markdown",
   "metadata": {},
   "source": [
    "### Check actual number of supercycles played in the PS in 2023"
   ]
  },
  {
   "cell_type": "code",
   "execution_count": 15,
   "metadata": {},
   "outputs": [],
   "source": [
    "# To be added"
   ]
  },
  {
   "cell_type": "code",
   "execution_count": 16,
   "metadata": {},
   "outputs": [],
   "source": [
    "source_dir = '../../07_special_presentations/02_JAPW_talk_2023/002_intensity_data/'"
   ]
  },
  {
   "cell_type": "code",
   "execution_count": null,
   "metadata": {},
   "outputs": [],
   "source": []
  }
 ],
 "metadata": {
  "kernelspec": {
   "display_name": "base",
   "language": "python",
   "name": "python3"
  },
  "language_info": {
   "codemirror_mode": {
    "name": "ipython",
    "version": 3
   },
   "file_extension": ".py",
   "mimetype": "text/x-python",
   "name": "python",
   "nbconvert_exporter": "python",
   "pygments_lexer": "ipython3",
   "version": "3.9.12"
  }
 },
 "nbformat": 4,
 "nbformat_minor": 2
}
