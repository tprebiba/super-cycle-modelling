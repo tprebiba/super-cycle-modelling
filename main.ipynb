{
 "cells": [
  {
   "cell_type": "code",
   "execution_count": 1,
   "metadata": {},
   "outputs": [],
   "source": [
    "import numpy as np\n",
    "import matplotlib.pyplot as plt\n",
    "import pandas as pnd\n",
    "\n",
    "import constants as cnst\n",
    "from classes import SuperCycle\n",
    "from helpers import cycles_to_dataframe, supercycles_scenario_to_dataframe\n",
    "from plotting_helpers import plot_supercycle"
   ]
  },
  {
   "cell_type": "markdown",
   "metadata": {},
   "source": [
    "### Check cycles modelling"
   ]
  },
  {
   "cell_type": "code",
   "execution_count": 2,
   "metadata": {},
   "outputs": [
    {
     "data": {
      "text/html": [
       "<div>\n",
       "<style scoped>\n",
       "    .dataframe tbody tr th:only-of-type {\n",
       "        vertical-align: middle;\n",
       "    }\n",
       "\n",
       "    .dataframe tbody tr th {\n",
       "        vertical-align: top;\n",
       "    }\n",
       "\n",
       "    .dataframe thead th {\n",
       "        text-align: right;\n",
       "    }\n",
       "</style>\n",
       "<table border=\"1\" class=\"dataframe\">\n",
       "  <thead>\n",
       "    <tr style=\"text-align: right;\">\n",
       "      <th></th>\n",
       "      <th>Length [s]</th>\n",
       "      <th>BPs</th>\n",
       "      <th>Power (MB+MQ) [MW]</th>\n",
       "    </tr>\n",
       "  </thead>\n",
       "  <tbody>\n",
       "    <tr>\n",
       "      <th>AD</th>\n",
       "      <td>2.4</td>\n",
       "      <td>2.0</td>\n",
       "      <td>0.00</td>\n",
       "    </tr>\n",
       "    <tr>\n",
       "      <th>TOF</th>\n",
       "      <td>1.2</td>\n",
       "      <td>1.0</td>\n",
       "      <td>0.00</td>\n",
       "    </tr>\n",
       "    <tr>\n",
       "      <th>EAST</th>\n",
       "      <td>2.4</td>\n",
       "      <td>2.0</td>\n",
       "      <td>0.00</td>\n",
       "    </tr>\n",
       "    <tr>\n",
       "      <th>MTE</th>\n",
       "      <td>1.2</td>\n",
       "      <td>1.0</td>\n",
       "      <td>0.00</td>\n",
       "    </tr>\n",
       "    <tr>\n",
       "      <th>LHC</th>\n",
       "      <td>3.6</td>\n",
       "      <td>3.0</td>\n",
       "      <td>0.00</td>\n",
       "    </tr>\n",
       "    <tr>\n",
       "      <th>AWAKE</th>\n",
       "      <td>2.4</td>\n",
       "      <td>2.0</td>\n",
       "      <td>0.00</td>\n",
       "    </tr>\n",
       "    <tr>\n",
       "      <th>LHC pilot</th>\n",
       "      <td>2.4</td>\n",
       "      <td>2.0</td>\n",
       "      <td>0.00</td>\n",
       "    </tr>\n",
       "    <tr>\n",
       "      <th>MD dedicated</th>\n",
       "      <td>3.6</td>\n",
       "      <td>3.0</td>\n",
       "      <td>0.00</td>\n",
       "    </tr>\n",
       "    <tr>\n",
       "      <th>MD parallel</th>\n",
       "      <td>2.4</td>\n",
       "      <td>2.0</td>\n",
       "      <td>0.00</td>\n",
       "    </tr>\n",
       "    <tr>\n",
       "      <th>Scrubbing</th>\n",
       "      <td>3.6</td>\n",
       "      <td>3.0</td>\n",
       "      <td>0.00</td>\n",
       "    </tr>\n",
       "    <tr>\n",
       "      <th>HiRadMat</th>\n",
       "      <td>3.6</td>\n",
       "      <td>3.0</td>\n",
       "      <td>0.00</td>\n",
       "    </tr>\n",
       "  </tbody>\n",
       "</table>\n",
       "</div>"
      ],
      "text/plain": [
       "             Length [s]  BPs Power (MB+MQ) [MW]\n",
       "AD                  2.4  2.0               0.00\n",
       "TOF                 1.2  1.0               0.00\n",
       "EAST                2.4  2.0               0.00\n",
       "MTE                 1.2  1.0               0.00\n",
       "LHC                 3.6  3.0               0.00\n",
       "AWAKE               2.4  2.0               0.00\n",
       "LHC pilot           2.4  2.0               0.00\n",
       "MD dedicated        3.6  3.0               0.00\n",
       "MD parallel         2.4  2.0               0.00\n",
       "Scrubbing           3.6  3.0               0.00\n",
       "HiRadMat            3.6  3.0               0.00"
      ]
     },
     "execution_count": 2,
     "metadata": {},
     "output_type": "execute_result"
    }
   ],
   "source": [
    "df_sps_cycles = cycles_to_dataframe(cnst.SPS_CYCLES)\n",
    "df_ps_cycles = cycles_to_dataframe(cnst.PS_CYCLES)\n",
    "df_psb_cycles = cycles_to_dataframe(cnst.PSB_CYCLES)\n",
    "df_ps_cycles"
   ]
  },
  {
   "cell_type": "markdown",
   "metadata": {},
   "source": [
    "### Check supercycle modelling"
   ]
  },
  {
   "cell_type": "code",
   "execution_count": 3,
   "metadata": {},
   "outputs": [
    {
     "name": "stdout",
     "output_type": "stream",
     "text": [
      "Average power [MW]: 40.82\n",
      "Supercycle length [s]: 14.4\n",
      "Supercycle BPs: 12\n"
     ]
    }
   ],
   "source": [
    "SPS_physics_supercycle = SuperCycle('SPS', 'Physics', [cnst.SPS_CYCLES['SFTPRO'], cnst.SPS_CYCLES['deGauss']])\n",
    "print('Average power [MW]: %1.2f'%SPS_physics_supercycle.average_power)\n",
    "print('Supercycle length [s]: %1.1f'%SPS_physics_supercycle.length)\n",
    "print('Supercycle BPs: %i'%SPS_physics_supercycle.bps)"
   ]
  },
  {
   "cell_type": "code",
   "execution_count": 4,
   "metadata": {},
   "outputs": [
    {
     "data": {
      "image/png": "[encoded data removed]",
      "text/plain": [
       "<Figure size 311.04x180 with 1 Axes>"
      ]
     },
     "metadata": {
      "needs_background": "light"
     },
     "output_type": "display_data"
    }
   ],
   "source": [
    "plot_supercycle(SPS_physics_supercycle)"
   ]
  },
  {
   "cell_type": "code",
   "execution_count": 5,
   "metadata": {},
   "outputs": [
    {
     "name": "stdout",
     "output_type": "stream",
     "text": [
      "Allocated hours to supercycle: 1749.0\n",
      "Allocated seconds to supercycle: 6296400.0\n",
      "Allocated BPs to supercycle: 5247000.0\n",
      "Number of times the supercycle is played in the allocated time: 437250\n",
      "Number of times each cycle is played in the allocated time:  {'SFTPRO': 437250.00000000006, 'deGauss': 437250.00000000006}\n"
     ]
    }
   ],
   "source": [
    "SPS_physics_supercycle.allocate_hours(cnst.SPS_SUPERCYCLES_TIME_SHARING_HOURS['Protons only']['Physics'])\n",
    "print('Allocated hours to supercycle: %1.1f'%SPS_physics_supercycle.allocated_hours)\n",
    "print('Allocated seconds to supercycle: %1.1f'%SPS_physics_supercycle.allocated_seconds)\n",
    "print('Allocated BPs to supercycle: %1.1f'%SPS_physics_supercycle.allocated_bps)\n",
    "print('Number of times the supercycle is played in the allocated time: %i'%SPS_physics_supercycle.number_of_supercycles_played)\n",
    "print('Number of times each cycle is played in the allocated time: ', SPS_physics_supercycle.number_of_cycles_played)\n",
    "#print(SPS)"
   ]
  },
  {
   "cell_type": "code",
   "execution_count": 6,
   "metadata": {},
   "outputs": [
    {
     "name": "stdout",
     "output_type": "stream",
     "text": [
      "Free BPs per supercycle: 10\n",
      "Total free BPs in the allocated time: 4372500\n"
     ]
    }
   ],
   "source": [
    "SPS_physics_supercycle.calculate_free_bps()\n",
    "print('Free BPs per supercycle: %i'%SPS_physics_supercycle.free_bps_per_supercycle)\n",
    "print('Total free BPs in the allocated time: %i'%SPS_physics_supercycle.free_bps_total)"
   ]
  },
  {
   "cell_type": "markdown",
   "metadata": {},
   "source": [
    "### Typical SPS supercycle scenario"
   ]
  },
  {
   "cell_type": "code",
   "execution_count": 7,
   "metadata": {},
   "outputs": [],
   "source": [
    "SPS_supercycles_scenario = {\n",
    "    'AWAKE': SuperCycle('SPS', 'AWAKE', \n",
    "                        [cnst.SPS_CYCLES['AWAKE'], cnst.SPS_CYCLES['SFTPRO'], cnst.SPS_CYCLES['deGauss']]),\n",
    "    'AWAKE with parallel MD': SuperCycle('SPS', 'AWAKE with parallel MD', \n",
    "                                         [cnst.SPS_CYCLES['AWAKE'], cnst.SPS_CYCLES['MD parallel'], cnst.SPS_CYCLES['SFTPRO']]),\n",
    "    'Dedicated MD': SuperCycle('SPS', 'Dedicated MD', \n",
    "                               [cnst.SPS_CYCLES['MD dedicated']]),\n",
    "    'HiRadMat': SuperCycle('SPS', 'HiRadMat', \n",
    "                           [cnst.SPS_CYCLES['HiRadMat'], cnst.SPS_CYCLES['SFTPRO'], cnst.SPS_CYCLES['deGauss']]),\n",
    "    'LHC filling': SuperCycle('SPS', 'LHC filling', \n",
    "                              [cnst.SPS_CYCLES['LHC filling'], cnst.SPS_CYCLES['SFTPRO'], cnst.SPS_CYCLES['deGauss']]),\n",
    "    'LHC setup': SuperCycle('SPS', 'LHC setup', \n",
    "                            [cnst.SPS_CYCLES['LHC pilot'], cnst.SPS_CYCLES['SFTPRO'], cnst.SPS_CYCLES['deGauss']]),\n",
    "    'Physics': SuperCycle('SPS', 'Physics', \n",
    "                          [cnst.SPS_CYCLES['SFTPRO'], cnst.SPS_CYCLES['deGauss']]),\n",
    "    'Physics with parallel MD': SuperCycle('SPS', 'Physics with parallel MD', \n",
    "                                           [cnst.SPS_CYCLES['MD parallel'], cnst.SPS_CYCLES['SFTPRO']]),\n",
    "    'Scrubbing': SuperCycle('SPS', 'Scrubbing', \n",
    "                            [cnst.SPS_CYCLES['Scrubbing'], cnst.SPS_CYCLES['SFTPRO'], cnst.SPS_CYCLES['deGauss']]),\n",
    "    'Thursday MD': SuperCycle('SPS', 'Thursday MD', \n",
    "                              [cnst.SPS_CYCLES['MD dedicated'], cnst.SPS_CYCLES['SFTPRO'], cnst.SPS_CYCLES['deGauss']]),\n",
    "}"
   ]
  },
  {
   "cell_type": "code",
   "execution_count": 8,
   "metadata": {},
   "outputs": [
    {
     "name": "stderr",
     "output_type": "stream",
     "text": [
      "/eos/home-t/tprebiba/Fellowship/00_Time_Sharing_SPS/03_protons_PSB-PS/super-cycle-modelling/helpers.py:57: FutureWarning: The behavior of DataFrame concatenation with empty or all-NA entries is deprecated. In a future version, this will no longer exclude empty or all-NA columns when determining the result dtypes. To retain the old behavior, exclude the relevant entries before the concat operation.\n",
      "  df = df._append(pnd.Series(name=supercycle,data=data))\n"
     ]
    },
    {
     "data": {
      "text/html": [
       "<div>\n",
       "<style scoped>\n",
       "    .dataframe tbody tr th:only-of-type {\n",
       "        vertical-align: middle;\n",
       "    }\n",
       "\n",
       "    .dataframe tbody tr th {\n",
       "        vertical-align: top;\n",
       "    }\n",
       "\n",
       "    .dataframe thead th {\n",
       "        text-align: right;\n",
       "    }\n",
       "</style>\n",
       "<table border=\"1\" class=\"dataframe\">\n",
       "  <thead>\n",
       "    <tr style=\"text-align: right;\">\n",
       "      <th></th>\n",
       "      <th>AWAKE</th>\n",
       "      <th>HiRadMat</th>\n",
       "      <th>LHC filling</th>\n",
       "      <th>LHC pilot</th>\n",
       "      <th>MD dedicated</th>\n",
       "      <th>MD parallel</th>\n",
       "      <th>SFTPRO</th>\n",
       "      <th>Scrubbing</th>\n",
       "      <th>deGauss</th>\n",
       "      <th>Length [s]</th>\n",
       "      <th>Power [MW]</th>\n",
       "    </tr>\n",
       "  </thead>\n",
       "  <tbody>\n",
       "    <tr>\n",
       "      <th>AWAKE</th>\n",
       "      <td>1</td>\n",
       "      <td>-</td>\n",
       "      <td>-</td>\n",
       "      <td>-</td>\n",
       "      <td>-</td>\n",
       "      <td>-</td>\n",
       "      <td>1</td>\n",
       "      <td>-</td>\n",
       "      <td>1</td>\n",
       "      <td>21.6</td>\n",
       "      <td>37.61</td>\n",
       "    </tr>\n",
       "    <tr>\n",
       "      <th>AWAKE with parallel MD</th>\n",
       "      <td>1</td>\n",
       "      <td>-</td>\n",
       "      <td>-</td>\n",
       "      <td>-</td>\n",
       "      <td>-</td>\n",
       "      <td>1</td>\n",
       "      <td>1</td>\n",
       "      <td>-</td>\n",
       "      <td>-</td>\n",
       "      <td>25.2</td>\n",
       "      <td>32.36</td>\n",
       "    </tr>\n",
       "    <tr>\n",
       "      <th>Dedicated MD</th>\n",
       "      <td>-</td>\n",
       "      <td>-</td>\n",
       "      <td>-</td>\n",
       "      <td>-</td>\n",
       "      <td>1</td>\n",
       "      <td>-</td>\n",
       "      <td>-</td>\n",
       "      <td>-</td>\n",
       "      <td>-</td>\n",
       "      <td>24.0</td>\n",
       "      <td>18.03</td>\n",
       "    </tr>\n",
       "    <tr>\n",
       "      <th>HiRadMat</th>\n",
       "      <td>-</td>\n",
       "      <td>1</td>\n",
       "      <td>-</td>\n",
       "      <td>-</td>\n",
       "      <td>-</td>\n",
       "      <td>-</td>\n",
       "      <td>1</td>\n",
       "      <td>-</td>\n",
       "      <td>1</td>\n",
       "      <td>38.4</td>\n",
       "      <td>26.26</td>\n",
       "    </tr>\n",
       "    <tr>\n",
       "      <th>LHC filling</th>\n",
       "      <td>-</td>\n",
       "      <td>-</td>\n",
       "      <td>1</td>\n",
       "      <td>-</td>\n",
       "      <td>-</td>\n",
       "      <td>-</td>\n",
       "      <td>1</td>\n",
       "      <td>-</td>\n",
       "      <td>1</td>\n",
       "      <td>38.4</td>\n",
       "      <td>26.57</td>\n",
       "    </tr>\n",
       "    <tr>\n",
       "      <th>LHC setup</th>\n",
       "      <td>-</td>\n",
       "      <td>-</td>\n",
       "      <td>-</td>\n",
       "      <td>1</td>\n",
       "      <td>-</td>\n",
       "      <td>-</td>\n",
       "      <td>1</td>\n",
       "      <td>-</td>\n",
       "      <td>1</td>\n",
       "      <td>27.6</td>\n",
       "      <td>36.84</td>\n",
       "    </tr>\n",
       "    <tr>\n",
       "      <th>Physics</th>\n",
       "      <td>-</td>\n",
       "      <td>-</td>\n",
       "      <td>-</td>\n",
       "      <td>-</td>\n",
       "      <td>-</td>\n",
       "      <td>-</td>\n",
       "      <td>1</td>\n",
       "      <td>-</td>\n",
       "      <td>1</td>\n",
       "      <td>14.4</td>\n",
       "      <td>40.82</td>\n",
       "    </tr>\n",
       "    <tr>\n",
       "      <th>Physics with parallel MD</th>\n",
       "      <td>-</td>\n",
       "      <td>-</td>\n",
       "      <td>-</td>\n",
       "      <td>-</td>\n",
       "      <td>-</td>\n",
       "      <td>1</td>\n",
       "      <td>1</td>\n",
       "      <td>-</td>\n",
       "      <td>-</td>\n",
       "      <td>18.0</td>\n",
       "      <td>32.82</td>\n",
       "    </tr>\n",
       "    <tr>\n",
       "      <th>Scrubbing</th>\n",
       "      <td>-</td>\n",
       "      <td>-</td>\n",
       "      <td>-</td>\n",
       "      <td>-</td>\n",
       "      <td>-</td>\n",
       "      <td>-</td>\n",
       "      <td>1</td>\n",
       "      <td>1</td>\n",
       "      <td>1</td>\n",
       "      <td>38.4</td>\n",
       "      <td>26.57</td>\n",
       "    </tr>\n",
       "    <tr>\n",
       "      <th>Thursday MD</th>\n",
       "      <td>-</td>\n",
       "      <td>-</td>\n",
       "      <td>-</td>\n",
       "      <td>-</td>\n",
       "      <td>1</td>\n",
       "      <td>-</td>\n",
       "      <td>1</td>\n",
       "      <td>-</td>\n",
       "      <td>1</td>\n",
       "      <td>38.4</td>\n",
       "      <td>26.57</td>\n",
       "    </tr>\n",
       "  </tbody>\n",
       "</table>\n",
       "</div>"
      ],
      "text/plain": [
       "                         AWAKE HiRadMat LHC filling LHC pilot MD dedicated  \\\n",
       "AWAKE                        1        -           -         -            -   \n",
       "AWAKE with parallel MD       1        -           -         -            -   \n",
       "Dedicated MD                 -        -           -         -            1   \n",
       "HiRadMat                     -        1           -         -            -   \n",
       "LHC filling                  -        -           1         -            -   \n",
       "LHC setup                    -        -           -         1            -   \n",
       "Physics                      -        -           -         -            -   \n",
       "Physics with parallel MD     -        -           -         -            -   \n",
       "Scrubbing                    -        -           -         -            -   \n",
       "Thursday MD                  -        -           -         -            1   \n",
       "\n",
       "                         MD parallel SFTPRO Scrubbing deGauss  Length [s]  \\\n",
       "AWAKE                              -      1         -       1        21.6   \n",
       "AWAKE with parallel MD             1      1         -       -        25.2   \n",
       "Dedicated MD                       -      -         -       -        24.0   \n",
       "HiRadMat                           -      1         -       1        38.4   \n",
       "LHC filling                        -      1         -       1        38.4   \n",
       "LHC setup                          -      1         -       1        27.6   \n",
       "Physics                            -      1         -       1        14.4   \n",
       "Physics with parallel MD           1      1         -       -        18.0   \n",
       "Scrubbing                          -      1         1       1        38.4   \n",
       "Thursday MD                        -      1         -       1        38.4   \n",
       "\n",
       "                          Power [MW]  \n",
       "AWAKE                          37.61  \n",
       "AWAKE with parallel MD         32.36  \n",
       "Dedicated MD                   18.03  \n",
       "HiRadMat                       26.26  \n",
       "LHC filling                    26.57  \n",
       "LHC setup                      36.84  \n",
       "Physics                        40.82  \n",
       "Physics with parallel MD       32.82  \n",
       "Scrubbing                      26.57  \n",
       "Thursday MD                    26.57  "
      ]
     },
     "execution_count": 8,
     "metadata": {},
     "output_type": "execute_result"
    }
   ],
   "source": [
    "df_sps_supercycles_scenario = supercycles_scenario_to_dataframe(SPS_supercycles_scenario)\n",
    "df_sps_supercycles_scenario"
   ]
  },
  {
   "cell_type": "code",
   "execution_count": 9,
   "metadata": {},
   "outputs": [
    {
     "data": {
      "image/png": "[encoded data removed]",
      "text/plain": [
       "<Figure size 466.56x180 with 1 Axes>"
      ]
     },
     "metadata": {
      "needs_background": "light"
     },
     "output_type": "display_data"
    },
    {
     "name": "stderr",
     "output_type": "stream",
     "text": [
      "/eos/home-t/tprebiba/Fellowship/00_Time_Sharing_SPS/03_protons_PSB-PS/super-cycle-modelling/classes.py:142: UserWarning: Number of supercycles played not calculated yet, needs to call allocate_hours method first.\n",
      "  warnings.warn('Number of supercycles played not calculated yet, needs to call allocate_hours method first.')\n"
     ]
    },
    {
     "name": "stdout",
     "output_type": "stream",
     "text": [
      "Free BPs per supercycle: 14\n"
     ]
    },
    {
     "data": {
      "image/png": "[encoded data removed]",
      "text/plain": [
       "<Figure size 544.32x180 with 1 Axes>"
      ]
     },
     "metadata": {
      "needs_background": "light"
     },
     "output_type": "display_data"
    },
    {
     "name": "stdout",
     "output_type": "stream",
     "text": [
      "Free BPs per supercycle: 15\n"
     ]
    },
    {
     "data": {
      "image/png": "[encoded data removed]",
      "text/plain": [
       "<Figure size 518.4x180 with 1 Axes>"
      ]
     },
     "metadata": {
      "needs_background": "light"
     },
     "output_type": "display_data"
    },
    {
     "name": "stdout",
     "output_type": "stream",
     "text": [
      "Free BPs per supercycle: 8\n"
     ]
    },
    {
     "data": {
      "image/png": "[encoded data removed]",
      "text/plain": [
       "<Figure size 829.44x180 with 1 Axes>"
      ]
     },
     "metadata": {
      "needs_background": "light"
     },
     "output_type": "display_data"
    },
    {
     "name": "stdout",
     "output_type": "stream",
     "text": [
      "Free BPs per supercycle: 18\n"
     ]
    },
    {
     "data": {
      "image/png": "[encoded data removed]",
      "text/plain": [
       "<Figure size 829.44x180 with 1 Axes>"
      ]
     },
     "metadata": {
      "needs_background": "light"
     },
     "output_type": "display_data"
    },
    {
     "name": "stdout",
     "output_type": "stream",
     "text": [
      "Free BPs per supercycle: 18\n"
     ]
    },
    {
     "data": {
      "image/png": "[encoded data removed]",
      "text/plain": [
       "<Figure size 596.16x180 with 1 Axes>"
      ]
     },
     "metadata": {
      "needs_background": "light"
     },
     "output_type": "display_data"
    },
    {
     "name": "stdout",
     "output_type": "stream",
     "text": [
      "Free BPs per supercycle: 17\n"
     ]
    },
    {
     "data": {
      "image/png": "[encoded data removed]",
      "text/plain": [
       "<Figure size 311.04x180 with 1 Axes>"
      ]
     },
     "metadata": {
      "needs_background": "light"
     },
     "output_type": "display_data"
    },
    {
     "name": "stdout",
     "output_type": "stream",
     "text": [
      "Free BPs per supercycle: 10\n"
     ]
    },
    {
     "data": {
      "image/png": "[encoded data removed]",
      "text/plain": [
       "<Figure size 388.8x180 with 1 Axes>"
      ]
     },
     "metadata": {
      "needs_background": "light"
     },
     "output_type": "display_data"
    },
    {
     "name": "stdout",
     "output_type": "stream",
     "text": [
      "Free BPs per supercycle: 11\n"
     ]
    },
    {
     "data": {
      "image/png": "[encoded data removed]",
      "text/plain": [
       "<Figure size 829.44x180 with 1 Axes>"
      ]
     },
     "metadata": {
      "needs_background": "light"
     },
     "output_type": "display_data"
    },
    {
     "name": "stdout",
     "output_type": "stream",
     "text": [
      "Free BPs per supercycle: 18\n"
     ]
    },
    {
     "data": {
      "image/png": "[encoded data removed]",
      "text/plain": [
       "<Figure size 829.44x180 with 1 Axes>"
      ]
     },
     "metadata": {
      "needs_background": "light"
     },
     "output_type": "display_data"
    },
    {
     "name": "stdout",
     "output_type": "stream",
     "text": [
      "Free BPs per supercycle: 18\n"
     ]
    }
   ],
   "source": [
    "for sps_supercycle in SPS_supercycles_scenario.values():\n",
    "    plot_supercycle(sps_supercycle)\n",
    "    sps_supercycle.calculate_free_bps()\n",
    "    print('Free BPs per supercycle: %i'%sps_supercycle.free_bps_per_supercycle)"
   ]
  },
  {
   "cell_type": "code",
   "execution_count": 10,
   "metadata": {},
   "outputs": [
    {
     "name": "stdout",
     "output_type": "stream",
     "text": [
      "*~*~*~*~*~*~*~*~*~*~*~*~*~*~*~*~*~*~*~*~*~*~*~*~*~*~*~*~*~*~*\n",
      "AWAKE\n",
      "Supercycle BPs: 18\n",
      "Allocated hours to supercycle: 443.9\n",
      "Number of times the supercycle is played in the allocated time: 73990\n",
      "Number of times each cycle is played in the allocated time:  {'AWAKE': 73990.0, 'SFTPRO': 73990.0, 'deGauss': 73990.0}\n",
      "Free BPs per supercycle: 14\n",
      "Total free BPs in the allocated time: 1035860\n",
      "*~*~*~*~*~*~*~*~*~*~*~*~*~*~*~*~*~*~*~*~*~*~*~*~*~*~*~*~*~*~*\n",
      "AWAKE with parallel MD\n",
      "Supercycle BPs: 21\n",
      "Allocated hours to supercycle: 160.9\n",
      "Number of times the supercycle is played in the allocated time: 22980\n",
      "Number of times each cycle is played in the allocated time:  {'AWAKE': 22980.000000000004, 'MD parallel': 22980.000000000004, 'SFTPRO': 22980.000000000004}\n",
      "Free BPs per supercycle: 15\n",
      "Total free BPs in the allocated time: 344700\n",
      "*~*~*~*~*~*~*~*~*~*~*~*~*~*~*~*~*~*~*~*~*~*~*~*~*~*~*~*~*~*~*\n",
      "Dedicated MD\n",
      "Supercycle BPs: 20\n",
      "Allocated hours to supercycle: 222.0\n",
      "Number of times the supercycle is played in the allocated time: 33300\n",
      "Number of times each cycle is played in the allocated time:  {'MD dedicated': 33300.0}\n",
      "Free BPs per supercycle: 8\n",
      "Total free BPs in the allocated time: 266400\n",
      "*~*~*~*~*~*~*~*~*~*~*~*~*~*~*~*~*~*~*~*~*~*~*~*~*~*~*~*~*~*~*\n",
      "HiRadMat\n",
      "Supercycle BPs: 32\n",
      "Allocated hours to supercycle: 144.0\n",
      "Number of times the supercycle is played in the allocated time: 13500\n",
      "Number of times each cycle is played in the allocated time:  {'HiRadMat': 13500.0, 'SFTPRO': 13500.0, 'deGauss': 13500.0}\n",
      "Free BPs per supercycle: 18\n",
      "Total free BPs in the allocated time: 243000\n",
      "*~*~*~*~*~*~*~*~*~*~*~*~*~*~*~*~*~*~*~*~*~*~*~*~*~*~*~*~*~*~*\n",
      "LHC filling\n",
      "Supercycle BPs: 32\n",
      "Allocated hours to supercycle: 698.4\n",
      "Number of times the supercycle is played in the allocated time: 65475\n",
      "Number of times each cycle is played in the allocated time:  {'LHC filling': 65475.000000000015, 'SFTPRO': 65475.000000000015, 'deGauss': 65475.000000000015}\n",
      "Free BPs per supercycle: 18\n",
      "Total free BPs in the allocated time: 1178550\n",
      "*~*~*~*~*~*~*~*~*~*~*~*~*~*~*~*~*~*~*~*~*~*~*~*~*~*~*~*~*~*~*\n",
      "LHC setup\n",
      "Supercycle BPs: 23\n",
      "Allocated hours to supercycle: 465.6\n",
      "Number of times the supercycle is played in the allocated time: 60730\n",
      "Number of times each cycle is played in the allocated time:  {'LHC pilot': 60730.434782608696, 'SFTPRO': 60730.434782608696, 'deGauss': 60730.434782608696}\n",
      "Free BPs per supercycle: 17\n",
      "Total free BPs in the allocated time: 1032417\n",
      "*~*~*~*~*~*~*~*~*~*~*~*~*~*~*~*~*~*~*~*~*~*~*~*~*~*~*~*~*~*~*\n",
      "Physics\n",
      "Supercycle BPs: 12\n",
      "Allocated hours to supercycle: 1399.2\n",
      "Number of times the supercycle is played in the allocated time: 349800\n",
      "Number of times each cycle is played in the allocated time:  {'SFTPRO': 349800.00000000006, 'deGauss': 349800.00000000006}\n",
      "Free BPs per supercycle: 10\n",
      "Total free BPs in the allocated time: 3498000\n",
      "*~*~*~*~*~*~*~*~*~*~*~*~*~*~*~*~*~*~*~*~*~*~*~*~*~*~*~*~*~*~*\n",
      "Physics with parallel MD\n",
      "Supercycle BPs: 15\n",
      "Allocated hours to supercycle: 928.8\n",
      "Number of times the supercycle is played in the allocated time: 185760\n",
      "Number of times each cycle is played in the allocated time:  {'MD parallel': 185760.00000000003, 'SFTPRO': 185760.00000000003}\n",
      "Free BPs per supercycle: 11\n",
      "Total free BPs in the allocated time: 2043360\n",
      "*~*~*~*~*~*~*~*~*~*~*~*~*~*~*~*~*~*~*~*~*~*~*~*~*~*~*~*~*~*~*\n",
      "Scrubbing\n",
      "Supercycle BPs: 32\n",
      "Allocated hours to supercycle: 43.2\n",
      "Number of times the supercycle is played in the allocated time: 4050\n",
      "Number of times each cycle is played in the allocated time:  {'SFTPRO': 4050.0, 'Scrubbing': 4050.0, 'deGauss': 4050.0}\n",
      "Free BPs per supercycle: 18\n",
      "Total free BPs in the allocated time: 72900\n",
      "*~*~*~*~*~*~*~*~*~*~*~*~*~*~*~*~*~*~*~*~*~*~*~*~*~*~*~*~*~*~*\n",
      "Thursday MD\n",
      "Supercycle BPs: 32\n",
      "Allocated hours to supercycle: 150.0\n",
      "Number of times the supercycle is played in the allocated time: 14062\n",
      "Number of times each cycle is played in the allocated time:  {'MD dedicated': 14062.5, 'SFTPRO': 14062.5, 'deGauss': 14062.5}\n",
      "Free BPs per supercycle: 18\n",
      "Total free BPs in the allocated time: 253125\n"
     ]
    }
   ],
   "source": [
    "PS_bps_total = 0\n",
    "PS_free_bps_total = 0\n",
    "for sps_supercycle in SPS_supercycles_scenario.values():\n",
    "    print('*~*~*~*~*~*~*~*~*~*~*~*~*~*~*~*~*~*~*~*~*~*~*~*~*~*~*~*~*~*~*')\n",
    "    print(sps_supercycle.name)\n",
    "    print('Supercycle BPs: %i'%sps_supercycle.bps)\n",
    "    \n",
    "    sps_supercycle.allocate_hours(cnst.SPS_SUPERCYCLES_TIME_SHARING_HOURS['Protons only'][sps_supercycle.name], machine_availability=0.8)\n",
    "    print('Allocated hours to supercycle: %1.1f'%sps_supercycle.allocated_hours)\n",
    "    print('Number of times the supercycle is played in the allocated time: %i'%sps_supercycle.number_of_supercycles_played)\n",
    "    print('Number of times each cycle is played in the allocated time: ', sps_supercycle.number_of_cycles_played)\n",
    "    \n",
    "    sps_supercycle.calculate_free_bps()\n",
    "    print('Free BPs per supercycle: %i'%sps_supercycle.free_bps_per_supercycle)\n",
    "    print('Total free BPs in the allocated time: %i'%sps_supercycle.free_bps_total)\n",
    "\n",
    "    PS_bps_total += sps_supercycle.allocated_bps\n",
    "    PS_free_bps_total += sps_supercycle.free_bps_total"
   ]
  },
  {
   "cell_type": "code",
   "execution_count": 11,
   "metadata": {},
   "outputs": [
    {
     "name": "stdout",
     "output_type": "stream",
     "text": [
      "Total BPs in the PS: 13968000\n",
      "Total free BPs in the PS: 9968312\n"
     ]
    }
   ],
   "source": [
    "print('Total BPs in the PS: %i'%PS_bps_total)\n",
    "print('Total free BPs in the PS: %i'%PS_free_bps_total)"
   ]
  },
  {
   "cell_type": "markdown",
   "metadata": {},
   "source": [
    "### Future SPS supercycle scenario"
   ]
  },
  {
   "cell_type": "code",
   "execution_count": 12,
   "metadata": {},
   "outputs": [
    {
     "name": "stdout",
     "output_type": "stream",
     "text": [
      "Average power [MW]: 36.86\n",
      "Supercycle length [s]: 43.2\n",
      "Supercycle BPs: 36\n",
      "Allocated hours to supercycle: 1399.2\n",
      "Allocated seconds to supercycle: 5037120.0\n",
      "Allocated BPs to supercycle: 4197600.0\n",
      "Number of times the supercycle is played in the allocated time: 116599\n",
      "Number of times each cycle is played in the allocated time:  {'ECN3_D (1.2s)': 466399.99999999994, 'SFTPRO': 116599.99999999999, 'deGauss': 116599.99999999999}\n"
     ]
    }
   ],
   "source": [
    "SPS_physics_supercycle = SuperCycle('SPS', 'Physics', [cnst.SPS_CYCLES['SFTPRO'], cnst.SPS_CYCLES['deGauss'], cnst.SPS_CYCLES['ECN3_D (1.2s)'], cnst.SPS_CYCLES['ECN3_D (1.2s)'], cnst.SPS_CYCLES['ECN3_D (1.2s)'], cnst.SPS_CYCLES['ECN3_D (1.2s)']])\n",
    "print('Average power [MW]: %1.2f'%SPS_physics_supercycle.average_power)\n",
    "print('Supercycle length [s]: %1.1f'%SPS_physics_supercycle.length)\n",
    "print('Supercycle BPs: %i'%SPS_physics_supercycle.bps)\n",
    "\n",
    "SPS_physics_supercycle.allocate_hours(cnst.SPS_SUPERCYCLES_TIME_SHARING_HOURS['Protons only']['Physics'], machine_availability=0.8)\n",
    "print('Allocated hours to supercycle: %1.1f'%SPS_physics_supercycle.allocated_hours)\n",
    "print('Allocated seconds to supercycle: %1.1f'%SPS_physics_supercycle.allocated_seconds)\n",
    "print('Allocated BPs to supercycle: %1.1f'%SPS_physics_supercycle.allocated_bps)\n",
    "print('Number of times the supercycle is played in the allocated time: %i'%SPS_physics_supercycle.number_of_supercycles_played)\n",
    "print('Number of times each cycle is played in the allocated time: ', SPS_physics_supercycle.number_of_cycles_played)\n",
    "#print(SPS)"
   ]
  },
  {
   "cell_type": "code",
   "execution_count": 13,
   "metadata": {},
   "outputs": [
    {
     "name": "stdout",
     "output_type": "stream",
     "text": [
      "Free BPs per supercycle: 26\n",
      "Total free BPs in the allocated time: 3031599\n"
     ]
    }
   ],
   "source": [
    "SPS_physics_supercycle.calculate_free_bps()\n",
    "print('Free BPs per supercycle: %i'%SPS_physics_supercycle.free_bps_per_supercycle)\n",
    "print('Total free BPs in the allocated time: %i'%SPS_physics_supercycle.free_bps_total)"
   ]
  },
  {
   "cell_type": "code",
   "execution_count": 14,
   "metadata": {},
   "outputs": [],
   "source": [
    "SPS_supercycles_future_scenario = {\n",
    "    'AWAKE': SuperCycle('SPS', 'AWAKE', \n",
    "                        [cnst.SPS_CYCLES['AWAKE'], cnst.SPS_CYCLES['AWAKE'], cnst.SPS_CYCLES['ECN3_D (1.2s)'], cnst.SPS_CYCLES['ECN3_D (1.2s)'], cnst.SPS_CYCLES['ECN3_D (1.2s)'], cnst.SPS_CYCLES['SFTPRO'], cnst.SPS_CYCLES['deGauss']]),\n",
    "    'AWAKE with parallel MD': SuperCycle('SPS', 'AWAKE with parallel MD', \n",
    "                                         [cnst.SPS_CYCLES['AWAKE'], cnst.SPS_CYCLES['AWAKE'], cnst.SPS_CYCLES['ECN3_D (1.2s)'], cnst.SPS_CYCLES['ECN3_D (1.2s)'], cnst.SPS_CYCLES['ECN3_D (1.2s)'], cnst.SPS_CYCLES['MD parallel'], cnst.SPS_CYCLES['SFTPRO']]),\n",
    "    'Dedicated MD': SuperCycle('SPS', 'Dedicated MD', \n",
    "                               [cnst.SPS_CYCLES['MD dedicated']]),\n",
    "    'HiRadMat': SuperCycle('SPS', 'HiRadMat', \n",
    "                           [cnst.SPS_CYCLES['HiRadMat'], cnst.SPS_CYCLES['ECN3_D (1.2s)'], cnst.SPS_CYCLES['ECN3_D (1.2s)'], cnst.SPS_CYCLES['ECN3_D (1.2s)'], cnst.SPS_CYCLES['ECN3_D (1.2s)']]),\n",
    "    'LHC filling': SuperCycle('SPS', 'LHC filling', \n",
    "                              [cnst.SPS_CYCLES['LHC filling'], cnst.SPS_CYCLES['ECN3_D (1.2s)']]),\n",
    "    'LHC setup': SuperCycle('SPS', 'LHC setup', \n",
    "                            [cnst.SPS_CYCLES['LHC pilot'], cnst.SPS_CYCLES['ECN3_D (1.2s)'], cnst.SPS_CYCLES['ECN3_D (1.2s)'], cnst.SPS_CYCLES['ECN3_D (1.2s)'], cnst.SPS_CYCLES['ECN3_D (1.2s)']]),\n",
    "    'Physics': SuperCycle('SPS', 'Physics', \n",
    "                          [cnst.SPS_CYCLES['SFTPRO'], cnst.SPS_CYCLES['deGauss'], cnst.SPS_CYCLES['ECN3_D (1.2s)'], cnst.SPS_CYCLES['ECN3_D (1.2s)'], cnst.SPS_CYCLES['ECN3_D (1.2s)'], cnst.SPS_CYCLES['ECN3_D (1.2s)']]),\n",
    "    'Physics with parallel MD': SuperCycle('SPS', 'Physics with parallel MD', \n",
    "                                           [cnst.SPS_CYCLES['MD parallel'], cnst.SPS_CYCLES['SFTPRO'], cnst.SPS_CYCLES['ECN3_D (1.2s)'], cnst.SPS_CYCLES['ECN3_D (1.2s)'], cnst.SPS_CYCLES['ECN3_D (1.2s)'], cnst.SPS_CYCLES['ECN3_D (1.2s)']]),\n",
    "    'Scrubbing': SuperCycle('SPS', 'Scrubbing', \n",
    "                            [cnst.SPS_CYCLES['Scrubbing'], cnst.SPS_CYCLES['SFTPRO']]),\n",
    "    'Thursday MD': SuperCycle('SPS', 'Thursday MD', \n",
    "                              [cnst.SPS_CYCLES['MD dedicated'], cnst.SPS_CYCLES['SFTPRO'], cnst.SPS_CYCLES['deGauss'], cnst.SPS_CYCLES['ECN3_D (1.2s)'], cnst.SPS_CYCLES['ECN3_D (1.2s)']]),\n",
    "}"
   ]
  },
  {
   "cell_type": "code",
   "execution_count": 15,
   "metadata": {},
   "outputs": [
    {
     "name": "stdout",
     "output_type": "stream",
     "text": [
      "*~*~*~*~*~*~*~*~*~*~*~*~*~*~*~*~*~*~*~*~*~*~*~*~*~*~*~*~*~*~*\n",
      "AWAKE\n",
      "Supercycle BPs: 42\n",
      "Allocated hours to supercycle: 443.9\n",
      "Number of times the supercycle is played in the allocated time: 31710\n",
      "Number of times each cycle is played in the allocated time:  {'AWAKE': 63420.0, 'ECN3_D (1.2s)': 95130.0, 'SFTPRO': 31710.0, 'deGauss': 31710.0}\n",
      "Free BPs per supercycle: 30\n",
      "Total free BPs in the allocated time: 951300\n",
      "*~*~*~*~*~*~*~*~*~*~*~*~*~*~*~*~*~*~*~*~*~*~*~*~*~*~*~*~*~*~*\n",
      "AWAKE with parallel MD\n",
      "Supercycle BPs: 45\n",
      "Allocated hours to supercycle: 160.9\n",
      "Number of times the supercycle is played in the allocated time: 10724\n",
      "Number of times each cycle is played in the allocated time:  {'AWAKE': 21448.0, 'ECN3_D (1.2s)': 32172.0, 'MD parallel': 10724.0, 'SFTPRO': 10724.0}\n",
      "Free BPs per supercycle: 31\n",
      "Total free BPs in the allocated time: 332444\n",
      "*~*~*~*~*~*~*~*~*~*~*~*~*~*~*~*~*~*~*~*~*~*~*~*~*~*~*~*~*~*~*\n",
      "Dedicated MD\n",
      "Supercycle BPs: 20\n",
      "Allocated hours to supercycle: 222.0\n",
      "Number of times the supercycle is played in the allocated time: 33300\n",
      "Number of times each cycle is played in the allocated time:  {'MD dedicated': 33300.0}\n",
      "Free BPs per supercycle: 8\n",
      "Total free BPs in the allocated time: 266400\n",
      "*~*~*~*~*~*~*~*~*~*~*~*~*~*~*~*~*~*~*~*~*~*~*~*~*~*~*~*~*~*~*\n",
      "HiRadMat\n",
      "Supercycle BPs: 44\n",
      "Allocated hours to supercycle: 144.0\n",
      "Number of times the supercycle is played in the allocated time: 9818\n",
      "Number of times each cycle is played in the allocated time:  {'ECN3_D (1.2s)': 39272.72727272727, 'HiRadMat': 9818.181818181818}\n",
      "Free BPs per supercycle: 24\n",
      "Total free BPs in the allocated time: 235636\n",
      "*~*~*~*~*~*~*~*~*~*~*~*~*~*~*~*~*~*~*~*~*~*~*~*~*~*~*~*~*~*~*\n",
      "LHC filling\n",
      "Supercycle BPs: 26\n",
      "Allocated hours to supercycle: 698.4\n",
      "Number of times the supercycle is played in the allocated time: 80584\n",
      "Number of times each cycle is played in the allocated time:  {'ECN3_D (1.2s)': 80584.6153846154, 'LHC filling': 80584.6153846154}\n",
      "Free BPs per supercycle: 12\n",
      "Total free BPs in the allocated time: 967015\n",
      "*~*~*~*~*~*~*~*~*~*~*~*~*~*~*~*~*~*~*~*~*~*~*~*~*~*~*~*~*~*~*\n",
      "LHC setup\n",
      "Supercycle BPs: 35\n",
      "Allocated hours to supercycle: 465.6\n",
      "Number of times the supercycle is played in the allocated time: 39908\n",
      "Number of times each cycle is played in the allocated time:  {'ECN3_D (1.2s)': 159634.2857142857, 'LHC pilot': 39908.57142857143}\n",
      "Free BPs per supercycle: 23\n",
      "Total free BPs in the allocated time: 917897\n",
      "*~*~*~*~*~*~*~*~*~*~*~*~*~*~*~*~*~*~*~*~*~*~*~*~*~*~*~*~*~*~*\n",
      "Physics\n",
      "Supercycle BPs: 36\n",
      "Allocated hours to supercycle: 1399.2\n",
      "Number of times the supercycle is played in the allocated time: 116599\n",
      "Number of times each cycle is played in the allocated time:  {'ECN3_D (1.2s)': 466399.99999999994, 'SFTPRO': 116599.99999999999, 'deGauss': 116599.99999999999}\n",
      "Free BPs per supercycle: 26\n",
      "Total free BPs in the allocated time: 3031599\n",
      "*~*~*~*~*~*~*~*~*~*~*~*~*~*~*~*~*~*~*~*~*~*~*~*~*~*~*~*~*~*~*\n",
      "Physics with parallel MD\n",
      "Supercycle BPs: 39\n",
      "Allocated hours to supercycle: 928.8\n",
      "Number of times the supercycle is played in the allocated time: 71446\n",
      "Number of times each cycle is played in the allocated time:  {'ECN3_D (1.2s)': 285784.61538461543, 'MD parallel': 71446.15384615386, 'SFTPRO': 71446.15384615386}\n",
      "Free BPs per supercycle: 27\n",
      "Total free BPs in the allocated time: 1929046\n",
      "*~*~*~*~*~*~*~*~*~*~*~*~*~*~*~*~*~*~*~*~*~*~*~*~*~*~*~*~*~*~*\n",
      "Scrubbing\n",
      "Supercycle BPs: 29\n",
      "Allocated hours to supercycle: 43.2\n",
      "Number of times the supercycle is played in the allocated time: 4468\n",
      "Number of times each cycle is played in the allocated time:  {'SFTPRO': 4468.9655172413795, 'Scrubbing': 4468.9655172413795}\n",
      "Free BPs per supercycle: 15\n",
      "Total free BPs in the allocated time: 67034\n",
      "*~*~*~*~*~*~*~*~*~*~*~*~*~*~*~*~*~*~*~*~*~*~*~*~*~*~*~*~*~*~*\n",
      "Thursday MD\n",
      "Supercycle BPs: 44\n",
      "Allocated hours to supercycle: 150.0\n",
      "Number of times the supercycle is played in the allocated time: 10227\n",
      "Number of times each cycle is played in the allocated time:  {'ECN3_D (1.2s)': 20454.545454545456, 'MD dedicated': 10227.272727272728, 'SFTPRO': 10227.272727272728, 'deGauss': 10227.272727272728}\n",
      "Free BPs per supercycle: 26\n",
      "Total free BPs in the allocated time: 265909\n"
     ]
    }
   ],
   "source": [
    "PS_bps_total = 0\n",
    "PS_free_bps_total = 0\n",
    "for sps_supercycle in SPS_supercycles_future_scenario.values():\n",
    "    print('*~*~*~*~*~*~*~*~*~*~*~*~*~*~*~*~*~*~*~*~*~*~*~*~*~*~*~*~*~*~*')\n",
    "    print(sps_supercycle.name)\n",
    "    print('Supercycle BPs: %i'%sps_supercycle.bps)\n",
    "    \n",
    "    sps_supercycle.allocate_hours(cnst.SPS_SUPERCYCLES_TIME_SHARING_HOURS['Protons only'][sps_supercycle.name], machine_availability=0.8)\n",
    "    print('Allocated hours to supercycle: %1.1f'%sps_supercycle.allocated_hours)\n",
    "    print('Number of times the supercycle is played in the allocated time: %i'%sps_supercycle.number_of_supercycles_played)\n",
    "    print('Number of times each cycle is played in the allocated time: ', sps_supercycle.number_of_cycles_played)\n",
    "    \n",
    "    sps_supercycle.calculate_free_bps()\n",
    "    print('Free BPs per supercycle: %i'%sps_supercycle.free_bps_per_supercycle)\n",
    "    print('Total free BPs in the allocated time: %i'%sps_supercycle.free_bps_total)\n",
    "\n",
    "    PS_bps_total += sps_supercycle.allocated_bps\n",
    "    PS_free_bps_total += sps_supercycle.free_bps_total"
   ]
  },
  {
   "cell_type": "code",
   "execution_count": 16,
   "metadata": {},
   "outputs": [
    {
     "name": "stdout",
     "output_type": "stream",
     "text": [
      "Total BPs in the PS: 13968000\n",
      "Total free BPs in the PS: 8964282\n"
     ]
    }
   ],
   "source": [
    "print('Total BPs in the PS: %i'%PS_bps_total)\n",
    "print('Total free BPs in the PS: %i'%PS_free_bps_total)"
   ]
  },
  {
   "cell_type": "code",
   "execution_count": 17,
   "metadata": {},
   "outputs": [
    {
     "data": {
      "text/plain": [
       "10.07221684072489"
      ]
     },
     "execution_count": 17,
     "metadata": {},
     "output_type": "execute_result"
    }
   ],
   "source": [
    "(1-8964282/9968312)*100"
   ]
  },
  {
   "cell_type": "markdown",
   "metadata": {},
   "source": [
    "### Check actual number of supercycles played in the PS in 2023"
   ]
  },
  {
   "cell_type": "code",
   "execution_count": 18,
   "metadata": {},
   "outputs": [],
   "source": [
    "source_dir = '../../07_special_presentations/02_JAPW_talk_2023/002_intensity_data/'"
   ]
  },
  {
   "cell_type": "code",
   "execution_count": null,
   "metadata": {},
   "outputs": [],
   "source": []
  }
 ],
 "metadata": {
  "kernelspec": {
   "display_name": "base",
   "language": "python",
   "name": "python3"
  },
  "language_info": {
   "codemirror_mode": {
    "name": "ipython",
    "version": 3
   },
   "file_extension": ".py",
   "mimetype": "text/x-python",
   "name": "python",
   "nbconvert_exporter": "python",
   "pygments_lexer": "ipython3",
   "version": "3.9.12"
  }
 },
 "nbformat": 4,
 "nbformat_minor": 2
}
