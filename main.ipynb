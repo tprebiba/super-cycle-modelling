{
 "cells": [
  {
   "cell_type": "code",
   "execution_count": 1,
   "metadata": {},
   "outputs": [],
   "source": [
    "import numpy as np\n",
    "import matplotlib.pyplot as plt\n",
    "import pandas as pnd\n",
    "\n",
    "import constants as cnst\n",
    "from classes import SuperCycle\n",
    "from helpers import cycles_to_dataframe, supercycles_scenario_to_dataframe\n",
    "from plotting_helpers import plot_actual_cycle_times"
   ]
  },
  {
   "cell_type": "markdown",
   "metadata": {},
   "source": [
    "### Check cycles modelling"
   ]
  },
  {
   "cell_type": "code",
   "execution_count": 2,
   "metadata": {},
   "outputs": [
    {
     "data": {
      "text/html": [
       "<div>\n",
       "<style scoped>\n",
       "    .dataframe tbody tr th:only-of-type {\n",
       "        vertical-align: middle;\n",
       "    }\n",
       "\n",
       "    .dataframe tbody tr th {\n",
       "        vertical-align: top;\n",
       "    }\n",
       "\n",
       "    .dataframe thead th {\n",
       "        text-align: right;\n",
       "    }\n",
       "</style>\n",
       "<table border=\"1\" class=\"dataframe\">\n",
       "  <thead>\n",
       "    <tr style=\"text-align: right;\">\n",
       "      <th></th>\n",
       "      <th>Length [s]</th>\n",
       "      <th>BPs</th>\n",
       "      <th>Power (MB+MQ) [MW]</th>\n",
       "    </tr>\n",
       "  </thead>\n",
       "  <tbody>\n",
       "    <tr>\n",
       "      <th>AD</th>\n",
       "      <td>2.4</td>\n",
       "      <td>2.0</td>\n",
       "      <td>0.00</td>\n",
       "    </tr>\n",
       "    <tr>\n",
       "      <th>TOF</th>\n",
       "      <td>1.2</td>\n",
       "      <td>1.0</td>\n",
       "      <td>0.00</td>\n",
       "    </tr>\n",
       "    <tr>\n",
       "      <th>EAST</th>\n",
       "      <td>2.4</td>\n",
       "      <td>2.0</td>\n",
       "      <td>0.00</td>\n",
       "    </tr>\n",
       "    <tr>\n",
       "      <th>MTE (2 injections)</th>\n",
       "      <td>2.4</td>\n",
       "      <td>2.0</td>\n",
       "      <td>0.00</td>\n",
       "    </tr>\n",
       "    <tr>\n",
       "      <th>LHC (4 injections)</th>\n",
       "      <td>14.4</td>\n",
       "      <td>12.0</td>\n",
       "      <td>0.00</td>\n",
       "    </tr>\n",
       "    <tr>\n",
       "      <th>AWAKE</th>\n",
       "      <td>2.4</td>\n",
       "      <td>2.0</td>\n",
       "      <td>0.00</td>\n",
       "    </tr>\n",
       "    <tr>\n",
       "      <th>LHC pilot</th>\n",
       "      <td>2.4</td>\n",
       "      <td>2.0</td>\n",
       "      <td>0.00</td>\n",
       "    </tr>\n",
       "    <tr>\n",
       "      <th>MD dedicated</th>\n",
       "      <td>14.4</td>\n",
       "      <td>12.0</td>\n",
       "      <td>0.00</td>\n",
       "    </tr>\n",
       "    <tr>\n",
       "      <th>MD parallel</th>\n",
       "      <td>2.4</td>\n",
       "      <td>2.0</td>\n",
       "      <td>0.00</td>\n",
       "    </tr>\n",
       "    <tr>\n",
       "      <th>Scrubbing</th>\n",
       "      <td>14.4</td>\n",
       "      <td>12.0</td>\n",
       "      <td>0.00</td>\n",
       "    </tr>\n",
       "    <tr>\n",
       "      <th>HiRadMat</th>\n",
       "      <td>14.4</td>\n",
       "      <td>12.0</td>\n",
       "      <td>0.00</td>\n",
       "    </tr>\n",
       "  </tbody>\n",
       "</table>\n",
       "</div>"
      ],
      "text/plain": [
       "                   Length [s]   BPs Power (MB+MQ) [MW]\n",
       "AD                        2.4   2.0               0.00\n",
       "TOF                       1.2   1.0               0.00\n",
       "EAST                      2.4   2.0               0.00\n",
       "MTE (2 injections)        2.4   2.0               0.00\n",
       "LHC (4 injections)       14.4  12.0               0.00\n",
       "AWAKE                     2.4   2.0               0.00\n",
       "LHC pilot                 2.4   2.0               0.00\n",
       "MD dedicated             14.4  12.0               0.00\n",
       "MD parallel               2.4   2.0               0.00\n",
       "Scrubbing                14.4  12.0               0.00\n",
       "HiRadMat                 14.4  12.0               0.00"
      ]
     },
     "execution_count": 2,
     "metadata": {},
     "output_type": "execute_result"
    }
   ],
   "source": [
    "df_sps_cycles = cycles_to_dataframe(cnst.SPS_CYCLES)\n",
    "df_ps_cycles = cycles_to_dataframe(cnst.PS_CYCLES)\n",
    "df_psb_cycles = cycles_to_dataframe(cnst.PSB_CYCLES)\n",
    "df_ps_cycles"
   ]
  },
  {
   "cell_type": "markdown",
   "metadata": {},
   "source": [
    "### Check supercycle modelling"
   ]
  },
  {
   "cell_type": "code",
   "execution_count": 3,
   "metadata": {},
   "outputs": [
    {
     "name": "stdout",
     "output_type": "stream",
     "text": [
      "Average power [MW]: 40.82\n",
      "Supercycle length [s]: 14.4\n",
      "Supercycle BPs: 12\n",
      "Allocated hours to supercycle: 1749.0\n",
      "Allocated seconds to supercycle: 6296400.0\n",
      "Allocated BPs to supercycle: 5247000.0\n",
      "Number of times the supercycle is played in the allocated time: 437250\n",
      "Number of times each cycle is played in the allocated time:  {'SFTPRO': 437250.00000000006, 'deGauss': 437250.00000000006}\n"
     ]
    }
   ],
   "source": [
    "SPS_physics_supercycle = SuperCycle('SPS', 'Physics', [cnst.SPS_CYCLES['SFTPRO'], cnst.SPS_CYCLES['deGauss']])\n",
    "print('Average power [MW]: %1.2f'%SPS_physics_supercycle.average_power)\n",
    "print('Supercycle length [s]: %1.1f'%SPS_physics_supercycle.length)\n",
    "print('Supercycle BPs: %i'%SPS_physics_supercycle.bps)\n",
    "\n",
    "SPS_physics_supercycle.allocate_hours(cnst.SPS_SUPERCYCLES_TIME_SHARING_HOURS['Protons only']['Physics'])\n",
    "print('Allocated hours to supercycle: %1.1f'%SPS_physics_supercycle.allocated_hours)\n",
    "print('Allocated seconds to supercycle: %1.1f'%SPS_physics_supercycle.allocated_seconds)\n",
    "print('Allocated BPs to supercycle: %1.1f'%SPS_physics_supercycle.allocated_bps)\n",
    "print('Number of times the supercycle is played in the allocated time: %i'%SPS_physics_supercycle.number_of_supercycles_played)\n",
    "print('Number of times each cycle is played in the allocated time: ', SPS_physics_supercycle.number_of_cycles_played)\n",
    "#print(SPS)"
   ]
  },
  {
   "cell_type": "code",
   "execution_count": 4,
   "metadata": {},
   "outputs": [
    {
     "name": "stdout",
     "output_type": "stream",
     "text": [
      "Free BPs per supercycle: 10\n",
      "Total free BPs in the allocated time: 4372500\n"
     ]
    }
   ],
   "source": [
    "SPS_physics_supercycle.calculate_free_bps()\n",
    "print('Free BPs per supercycle: %i'%SPS_physics_supercycle.free_bps_per_supercycle)\n",
    "print('Total free BPs in the allocated time: %i'%SPS_physics_supercycle.free_bps_total)"
   ]
  },
  {
   "cell_type": "markdown",
   "metadata": {},
   "source": [
    "### Typical SPS supercycle"
   ]
  },
  {
   "cell_type": "code",
   "execution_count": 5,
   "metadata": {},
   "outputs": [],
   "source": [
    "SPS_supercycles_scenario = {\n",
    "    'AWAKE': SuperCycle('SPS', 'AWAKE', \n",
    "                        [cnst.SPS_CYCLES['AWAKE'], cnst.SPS_CYCLES['SFTPRO'], cnst.SPS_CYCLES['deGauss']]),\n",
    "    'AWAKE with parallel MD': SuperCycle('SPS', 'AWAKE with parallel MD', \n",
    "                                         [cnst.SPS_CYCLES['AWAKE'], cnst.SPS_CYCLES['MD parallel'], cnst.SPS_CYCLES['SFTPRO']]),\n",
    "    'Dedicated MD': SuperCycle('SPS', 'Dedicated MD', \n",
    "                               [cnst.SPS_CYCLES['MD dedicated']]),\n",
    "    'HiRadMat': SuperCycle('SPS', 'HiRadMat', \n",
    "                           [cnst.SPS_CYCLES['HiRadMat'], cnst.SPS_CYCLES['SFTPRO'], cnst.SPS_CYCLES['deGauss']]),\n",
    "    'LHC filling': SuperCycle('SPS', 'LHC filling', \n",
    "                              [cnst.SPS_CYCLES['LHC filling'], cnst.SPS_CYCLES['SFTPRO'], cnst.SPS_CYCLES['deGauss']]),\n",
    "    'LHC setup': SuperCycle('SPS', 'LHC setup', \n",
    "                            [cnst.SPS_CYCLES['LHC pilot'], cnst.SPS_CYCLES['SFTPRO'], cnst.SPS_CYCLES['deGauss']]),\n",
    "    'Physics': SuperCycle('SPS', 'Physics', \n",
    "                          [cnst.SPS_CYCLES['SFTPRO'], cnst.SPS_CYCLES['deGauss']]),\n",
    "    'Physics with parallel MD': SuperCycle('SPS', 'Physics with parallel MD', \n",
    "                                           [cnst.SPS_CYCLES['MD parallel'], cnst.SPS_CYCLES['SFTPRO']]),\n",
    "    'Scrubbing': SuperCycle('SPS', 'Scrubbing', \n",
    "                            [cnst.SPS_CYCLES['Scrubbing'], cnst.SPS_CYCLES['SFTPRO'], cnst.SPS_CYCLES['deGauss']]),\n",
    "    'Thursday MD': SuperCycle('SPS', 'Thursday MD', \n",
    "                              [cnst.SPS_CYCLES['MD dedicated'], cnst.SPS_CYCLES['SFTPRO'], cnst.SPS_CYCLES['deGauss']]),\n",
    "}"
   ]
  },
  {
   "cell_type": "code",
   "execution_count": 6,
   "metadata": {},
   "outputs": [
    {
     "name": "stdout",
     "output_type": "stream",
     "text": [
      "*~*~*~*~*~*~*~*~*~*~*~*~*~*~*~*~*~*~*~*~*~*~*~*~*~*~*~*~*~*~*\n",
      "AWAKE\n",
      "Supercycle BPs: 18\n",
      "Allocated hours to supercycle: 443.9\n",
      "Number of times the supercycle is played in the allocated time: 73990\n",
      "Number of times each cycle is played in the allocated time:  {'AWAKE': 73990.0, 'SFTPRO': 73990.0, 'deGauss': 73990.0}\n",
      "Free BPs per supercycle: 14\n",
      "Total free BPs in the allocated time: 1035860\n",
      "*~*~*~*~*~*~*~*~*~*~*~*~*~*~*~*~*~*~*~*~*~*~*~*~*~*~*~*~*~*~*\n",
      "AWAKE with parallel MD\n",
      "Supercycle BPs: 21\n",
      "Allocated hours to supercycle: 160.9\n",
      "Number of times the supercycle is played in the allocated time: 22980\n",
      "Number of times each cycle is played in the allocated time:  {'AWAKE': 22980.000000000004, 'MD parallel': 22980.000000000004, 'SFTPRO': 22980.000000000004}\n",
      "Free BPs per supercycle: 17\n",
      "Total free BPs in the allocated time: 390660\n",
      "*~*~*~*~*~*~*~*~*~*~*~*~*~*~*~*~*~*~*~*~*~*~*~*~*~*~*~*~*~*~*\n",
      "Dedicated MD\n",
      "Supercycle BPs: 20\n",
      "Allocated hours to supercycle: 222.0\n",
      "Number of times the supercycle is played in the allocated time: 33300\n",
      "Number of times each cycle is played in the allocated time:  {'MD dedicated': 33300.0}\n",
      "Free BPs per supercycle: 20\n",
      "Total free BPs in the allocated time: 666000\n",
      "*~*~*~*~*~*~*~*~*~*~*~*~*~*~*~*~*~*~*~*~*~*~*~*~*~*~*~*~*~*~*\n",
      "HiRadMat\n",
      "Supercycle BPs: 32\n",
      "Allocated hours to supercycle: 144.0\n",
      "Number of times the supercycle is played in the allocated time: 13500\n",
      "Number of times each cycle is played in the allocated time:  {'HiRadMat': 13500.0, 'SFTPRO': 13500.0, 'deGauss': 13500.0}\n",
      "Free BPs per supercycle: 30\n",
      "Total free BPs in the allocated time: 405000\n",
      "*~*~*~*~*~*~*~*~*~*~*~*~*~*~*~*~*~*~*~*~*~*~*~*~*~*~*~*~*~*~*\n",
      "LHC filling\n",
      "Supercycle BPs: 32\n",
      "Allocated hours to supercycle: 698.4\n",
      "Number of times the supercycle is played in the allocated time: 65475\n",
      "Number of times each cycle is played in the allocated time:  {'LHC filling': 65475.000000000015, 'SFTPRO': 65475.000000000015, 'deGauss': 65475.000000000015}\n",
      "Free BPs per supercycle: 18\n",
      "Total free BPs in the allocated time: 1178550\n",
      "*~*~*~*~*~*~*~*~*~*~*~*~*~*~*~*~*~*~*~*~*~*~*~*~*~*~*~*~*~*~*\n",
      "LHC setup\n",
      "Supercycle BPs: 23\n",
      "Allocated hours to supercycle: 465.6\n",
      "Number of times the supercycle is played in the allocated time: 60730\n",
      "Number of times each cycle is played in the allocated time:  {'LHC pilot': 60730.434782608696, 'SFTPRO': 60730.434782608696, 'deGauss': 60730.434782608696}\n",
      "Free BPs per supercycle: 21\n",
      "Total free BPs in the allocated time: 1275339\n",
      "*~*~*~*~*~*~*~*~*~*~*~*~*~*~*~*~*~*~*~*~*~*~*~*~*~*~*~*~*~*~*\n",
      "Physics\n",
      "Supercycle BPs: 12\n",
      "Allocated hours to supercycle: 1399.2\n",
      "Number of times the supercycle is played in the allocated time: 349800\n",
      "Number of times each cycle is played in the allocated time:  {'SFTPRO': 349800.00000000006, 'deGauss': 349800.00000000006}\n",
      "Free BPs per supercycle: 10\n",
      "Total free BPs in the allocated time: 3498000\n",
      "*~*~*~*~*~*~*~*~*~*~*~*~*~*~*~*~*~*~*~*~*~*~*~*~*~*~*~*~*~*~*\n",
      "Physics with parallel MD\n",
      "Supercycle BPs: 15\n",
      "Allocated hours to supercycle: 928.8\n",
      "Number of times the supercycle is played in the allocated time: 185760\n",
      "Number of times each cycle is played in the allocated time:  {'MD parallel': 185760.00000000003, 'SFTPRO': 185760.00000000003}\n",
      "Free BPs per supercycle: 13\n",
      "Total free BPs in the allocated time: 2414880\n",
      "*~*~*~*~*~*~*~*~*~*~*~*~*~*~*~*~*~*~*~*~*~*~*~*~*~*~*~*~*~*~*\n",
      "Scrubbing\n",
      "Supercycle BPs: 32\n",
      "Allocated hours to supercycle: 43.2\n",
      "Number of times the supercycle is played in the allocated time: 4050\n",
      "Number of times each cycle is played in the allocated time:  {'SFTPRO': 4050.0, 'Scrubbing': 4050.0, 'deGauss': 4050.0}\n",
      "Free BPs per supercycle: 30\n",
      "Total free BPs in the allocated time: 121500\n",
      "*~*~*~*~*~*~*~*~*~*~*~*~*~*~*~*~*~*~*~*~*~*~*~*~*~*~*~*~*~*~*\n",
      "Thursday MD\n",
      "Supercycle BPs: 32\n",
      "Allocated hours to supercycle: 150.0\n",
      "Number of times the supercycle is played in the allocated time: 14062\n",
      "Number of times each cycle is played in the allocated time:  {'MD dedicated': 14062.5, 'SFTPRO': 14062.5, 'deGauss': 14062.5}\n",
      "Free BPs per supercycle: 30\n",
      "Total free BPs in the allocated time: 421875\n"
     ]
    }
   ],
   "source": [
    "PS_bps_total = 0\n",
    "PS_free_bps_total = 0\n",
    "for sps_supercycle in SPS_supercycles_scenario.values():\n",
    "    print('*~*~*~*~*~*~*~*~*~*~*~*~*~*~*~*~*~*~*~*~*~*~*~*~*~*~*~*~*~*~*')\n",
    "    print(sps_supercycle.name)\n",
    "    print('Supercycle BPs: %i'%sps_supercycle.bps)\n",
    "    \n",
    "    sps_supercycle.allocate_hours(cnst.SPS_SUPERCYCLES_TIME_SHARING_HOURS['Protons only'][sps_supercycle.name], machine_availability=0.8)\n",
    "    print('Allocated hours to supercycle: %1.1f'%sps_supercycle.allocated_hours)\n",
    "    print('Number of times the supercycle is played in the allocated time: %i'%sps_supercycle.number_of_supercycles_played)\n",
    "    print('Number of times each cycle is played in the allocated time: ', sps_supercycle.number_of_cycles_played)\n",
    "    \n",
    "    sps_supercycle.calculate_free_bps()\n",
    "    print('Free BPs per supercycle: %i'%sps_supercycle.free_bps_per_supercycle)\n",
    "    print('Total free BPs in the allocated time: %i'%sps_supercycle.free_bps_total)\n",
    "\n",
    "    PS_bps_total += sps_supercycle.allocated_bps\n",
    "    PS_free_bps_total += sps_supercycle.free_bps_total"
   ]
  },
  {
   "cell_type": "code",
   "execution_count": 7,
   "metadata": {},
   "outputs": [
    {
     "name": "stdout",
     "output_type": "stream",
     "text": [
      "Total BPs in the PS: 13968000\n",
      "Total free BPs in the PS: 11407664\n"
     ]
    }
   ],
   "source": [
    "print('Total BPs in the PS: %i'%PS_bps_total)\n",
    "print('Total free BPs in the PS: %i'%PS_free_bps_total)"
   ]
  },
  {
   "cell_type": "markdown",
   "metadata": {},
   "source": [
    "### Future SPS supercycle scenario"
   ]
  },
  {
   "cell_type": "code",
   "execution_count": 8,
   "metadata": {},
   "outputs": [
    {
     "name": "stdout",
     "output_type": "stream",
     "text": [
      "Average power [MW]: 36.86\n",
      "Supercycle length [s]: 43.2\n",
      "Supercycle BPs: 36\n",
      "Allocated hours to supercycle: 1399.2\n",
      "Allocated seconds to supercycle: 5037120.0\n",
      "Allocated BPs to supercycle: 4197600.0\n",
      "Number of times the supercycle is played in the allocated time: 116599\n",
      "Number of times each cycle is played in the allocated time:  {'ECN3_D (1.2s)': 466399.99999999994, 'SFTPRO': 116599.99999999999, 'deGauss': 116599.99999999999}\n"
     ]
    }
   ],
   "source": [
    "SPS_physics_supercycle = SuperCycle('SPS', 'Physics', [cnst.SPS_CYCLES['SFTPRO'], cnst.SPS_CYCLES['deGauss'], cnst.SPS_CYCLES['ECN3_D (1.2s)'], cnst.SPS_CYCLES['ECN3_D (1.2s)'], cnst.SPS_CYCLES['ECN3_D (1.2s)'], cnst.SPS_CYCLES['ECN3_D (1.2s)']])\n",
    "print('Average power [MW]: %1.2f'%SPS_physics_supercycle.average_power)\n",
    "print('Supercycle length [s]: %1.1f'%SPS_physics_supercycle.length)\n",
    "print('Supercycle BPs: %i'%SPS_physics_supercycle.bps)\n",
    "\n",
    "SPS_physics_supercycle.allocate_hours(cnst.SPS_SUPERCYCLES_TIME_SHARING_HOURS['Protons only']['Physics'], machine_availability=0.8)\n",
    "print('Allocated hours to supercycle: %1.1f'%SPS_physics_supercycle.allocated_hours)\n",
    "print('Allocated seconds to supercycle: %1.1f'%SPS_physics_supercycle.allocated_seconds)\n",
    "print('Allocated BPs to supercycle: %1.1f'%SPS_physics_supercycle.allocated_bps)\n",
    "print('Number of times the supercycle is played in the allocated time: %i'%SPS_physics_supercycle.number_of_supercycles_played)\n",
    "print('Number of times each cycle is played in the allocated time: ', SPS_physics_supercycle.number_of_cycles_played)\n",
    "#print(SPS)"
   ]
  },
  {
   "cell_type": "code",
   "execution_count": 9,
   "metadata": {},
   "outputs": [
    {
     "name": "stdout",
     "output_type": "stream",
     "text": [
      "Free BPs per supercycle: 26\n",
      "Total free BPs in the allocated time: 3031599\n"
     ]
    }
   ],
   "source": [
    "SPS_physics_supercycle.calculate_free_bps()\n",
    "print('Free BPs per supercycle: %i'%SPS_physics_supercycle.free_bps_per_supercycle)\n",
    "print('Total free BPs in the allocated time: %i'%SPS_physics_supercycle.free_bps_total)"
   ]
  },
  {
   "cell_type": "code",
   "execution_count": 10,
   "metadata": {},
   "outputs": [],
   "source": [
    "SPS_supercycles_future_scenario = {\n",
    "    'AWAKE': SuperCycle('SPS', 'AWAKE', \n",
    "                        [cnst.SPS_CYCLES['AWAKE'], cnst.SPS_CYCLES['AWAKE'], cnst.SPS_CYCLES['ECN3_D (1.2s)'], cnst.SPS_CYCLES['ECN3_D (1.2s)'], cnst.SPS_CYCLES['ECN3_D (1.2s)'], cnst.SPS_CYCLES['SFTPRO'], cnst.SPS_CYCLES['deGauss']]),\n",
    "    'AWAKE with parallel MD': SuperCycle('SPS', 'AWAKE with parallel MD', \n",
    "                                         [cnst.SPS_CYCLES['AWAKE'], cnst.SPS_CYCLES['AWAKE'], cnst.SPS_CYCLES['ECN3_D (1.2s)'], cnst.SPS_CYCLES['ECN3_D (1.2s)'], cnst.SPS_CYCLES['ECN3_D (1.2s)'], cnst.SPS_CYCLES['MD parallel'], cnst.SPS_CYCLES['SFTPRO']]),\n",
    "    'Dedicated MD': SuperCycle('SPS', 'Dedicated MD', \n",
    "                               [cnst.SPS_CYCLES['MD dedicated']]),\n",
    "    'HiRadMat': SuperCycle('SPS', 'HiRadMat', \n",
    "                           [cnst.SPS_CYCLES['HiRadMat'], cnst.SPS_CYCLES['ECN3_D (1.2s)'], cnst.SPS_CYCLES['ECN3_D (1.2s)'], cnst.SPS_CYCLES['ECN3_D (1.2s)'], cnst.SPS_CYCLES['ECN3_D (1.2s)']]),\n",
    "    'LHC filling': SuperCycle('SPS', 'LHC filling', \n",
    "                              [cnst.SPS_CYCLES['LHC filling'], cnst.SPS_CYCLES['ECN3_D (1.2s)']]),\n",
    "    'LHC setup': SuperCycle('SPS', 'LHC setup', \n",
    "                            [cnst.SPS_CYCLES['LHC pilot'], cnst.SPS_CYCLES['ECN3_D (1.2s)'], cnst.SPS_CYCLES['ECN3_D (1.2s)'], cnst.SPS_CYCLES['ECN3_D (1.2s)'], cnst.SPS_CYCLES['ECN3_D (1.2s)']]),\n",
    "    'Physics': SuperCycle('SPS', 'Physics', \n",
    "                          [cnst.SPS_CYCLES['SFTPRO'], cnst.SPS_CYCLES['deGauss'], cnst.SPS_CYCLES['ECN3_D (1.2s)'], cnst.SPS_CYCLES['ECN3_D (1.2s)'], cnst.SPS_CYCLES['ECN3_D (1.2s)'], cnst.SPS_CYCLES['ECN3_D (1.2s)']]),\n",
    "    'Physics with parallel MD': SuperCycle('SPS', 'Physics with parallel MD', \n",
    "                                           [cnst.SPS_CYCLES['MD parallel'], cnst.SPS_CYCLES['SFTPRO'], cnst.SPS_CYCLES['ECN3_D (1.2s)'], cnst.SPS_CYCLES['ECN3_D (1.2s)'], cnst.SPS_CYCLES['ECN3_D (1.2s)'], cnst.SPS_CYCLES['ECN3_D (1.2s)']]),\n",
    "    'Scrubbing': SuperCycle('SPS', 'Scrubbing', \n",
    "                            [cnst.SPS_CYCLES['Scrubbing'], cnst.SPS_CYCLES['SFTPRO']]),\n",
    "    'Thursday MD': SuperCycle('SPS', 'Thursday MD', \n",
    "                              [cnst.SPS_CYCLES['MD dedicated'], cnst.SPS_CYCLES['SFTPRO'], cnst.SPS_CYCLES['deGauss'], cnst.SPS_CYCLES['ECN3_D (1.2s)'], cnst.SPS_CYCLES['ECN3_D (1.2s)']]),\n",
    "}"
   ]
  },
  {
   "cell_type": "code",
   "execution_count": 11,
   "metadata": {},
   "outputs": [
    {
     "name": "stdout",
     "output_type": "stream",
     "text": [
      "*~*~*~*~*~*~*~*~*~*~*~*~*~*~*~*~*~*~*~*~*~*~*~*~*~*~*~*~*~*~*\n",
      "AWAKE\n",
      "Supercycle BPs: 42\n",
      "Allocated hours to supercycle: 443.9\n",
      "Number of times the supercycle is played in the allocated time: 31710\n",
      "Number of times each cycle is played in the allocated time:  {'AWAKE': 63420.0, 'ECN3_D (1.2s)': 95130.0, 'SFTPRO': 31710.0, 'deGauss': 31710.0}\n",
      "Free BPs per supercycle: 30\n",
      "Total free BPs in the allocated time: 951300\n",
      "*~*~*~*~*~*~*~*~*~*~*~*~*~*~*~*~*~*~*~*~*~*~*~*~*~*~*~*~*~*~*\n",
      "AWAKE with parallel MD\n",
      "Supercycle BPs: 45\n",
      "Allocated hours to supercycle: 160.9\n",
      "Number of times the supercycle is played in the allocated time: 10724\n",
      "Number of times each cycle is played in the allocated time:  {'AWAKE': 21448.0, 'ECN3_D (1.2s)': 32172.0, 'MD parallel': 10724.0, 'SFTPRO': 10724.0}\n",
      "Free BPs per supercycle: 33\n",
      "Total free BPs in the allocated time: 353892\n",
      "*~*~*~*~*~*~*~*~*~*~*~*~*~*~*~*~*~*~*~*~*~*~*~*~*~*~*~*~*~*~*\n",
      "Dedicated MD\n",
      "Supercycle BPs: 20\n",
      "Allocated hours to supercycle: 222.0\n",
      "Number of times the supercycle is played in the allocated time: 33300\n",
      "Number of times each cycle is played in the allocated time:  {'MD dedicated': 33300.0}\n",
      "Free BPs per supercycle: 20\n",
      "Total free BPs in the allocated time: 666000\n",
      "*~*~*~*~*~*~*~*~*~*~*~*~*~*~*~*~*~*~*~*~*~*~*~*~*~*~*~*~*~*~*\n",
      "HiRadMat\n",
      "Supercycle BPs: 44\n",
      "Allocated hours to supercycle: 144.0\n",
      "Number of times the supercycle is played in the allocated time: 9818\n",
      "Number of times each cycle is played in the allocated time:  {'ECN3_D (1.2s)': 39272.72727272727, 'HiRadMat': 9818.181818181818}\n",
      "Free BPs per supercycle: 36\n",
      "Total free BPs in the allocated time: 353454\n",
      "*~*~*~*~*~*~*~*~*~*~*~*~*~*~*~*~*~*~*~*~*~*~*~*~*~*~*~*~*~*~*\n",
      "LHC filling\n",
      "Supercycle BPs: 26\n",
      "Allocated hours to supercycle: 698.4\n",
      "Number of times the supercycle is played in the allocated time: 80584\n",
      "Number of times each cycle is played in the allocated time:  {'ECN3_D (1.2s)': 80584.6153846154, 'LHC filling': 80584.6153846154}\n",
      "Free BPs per supercycle: 12\n",
      "Total free BPs in the allocated time: 967015\n",
      "*~*~*~*~*~*~*~*~*~*~*~*~*~*~*~*~*~*~*~*~*~*~*~*~*~*~*~*~*~*~*\n",
      "LHC setup\n",
      "Supercycle BPs: 35\n",
      "Allocated hours to supercycle: 465.6\n",
      "Number of times the supercycle is played in the allocated time: 39908\n",
      "Number of times each cycle is played in the allocated time:  {'ECN3_D (1.2s)': 159634.2857142857, 'LHC pilot': 39908.57142857143}\n",
      "Free BPs per supercycle: 27\n",
      "Total free BPs in the allocated time: 1077531\n",
      "*~*~*~*~*~*~*~*~*~*~*~*~*~*~*~*~*~*~*~*~*~*~*~*~*~*~*~*~*~*~*\n",
      "Physics\n",
      "Supercycle BPs: 36\n",
      "Allocated hours to supercycle: 1399.2\n",
      "Number of times the supercycle is played in the allocated time: 116599\n",
      "Number of times each cycle is played in the allocated time:  {'ECN3_D (1.2s)': 466399.99999999994, 'SFTPRO': 116599.99999999999, 'deGauss': 116599.99999999999}\n",
      "Free BPs per supercycle: 26\n",
      "Total free BPs in the allocated time: 3031599\n",
      "*~*~*~*~*~*~*~*~*~*~*~*~*~*~*~*~*~*~*~*~*~*~*~*~*~*~*~*~*~*~*\n",
      "Physics with parallel MD\n",
      "Supercycle BPs: 39\n",
      "Allocated hours to supercycle: 928.8\n",
      "Number of times the supercycle is played in the allocated time: 71446\n",
      "Number of times each cycle is played in the allocated time:  {'ECN3_D (1.2s)': 285784.61538461543, 'MD parallel': 71446.15384615386, 'SFTPRO': 71446.15384615386}\n",
      "Free BPs per supercycle: 29\n",
      "Total free BPs in the allocated time: 2071938\n",
      "*~*~*~*~*~*~*~*~*~*~*~*~*~*~*~*~*~*~*~*~*~*~*~*~*~*~*~*~*~*~*\n",
      "Scrubbing\n",
      "Supercycle BPs: 29\n",
      "Allocated hours to supercycle: 43.2\n",
      "Number of times the supercycle is played in the allocated time: 4468\n",
      "Number of times each cycle is played in the allocated time:  {'SFTPRO': 4468.9655172413795, 'Scrubbing': 4468.9655172413795}\n",
      "Free BPs per supercycle: 27\n",
      "Total free BPs in the allocated time: 120662\n",
      "*~*~*~*~*~*~*~*~*~*~*~*~*~*~*~*~*~*~*~*~*~*~*~*~*~*~*~*~*~*~*\n",
      "Thursday MD\n",
      "Supercycle BPs: 44\n",
      "Allocated hours to supercycle: 150.0\n",
      "Number of times the supercycle is played in the allocated time: 10227\n",
      "Number of times each cycle is played in the allocated time:  {'ECN3_D (1.2s)': 20454.545454545456, 'MD dedicated': 10227.272727272728, 'SFTPRO': 10227.272727272728, 'deGauss': 10227.272727272728}\n",
      "Free BPs per supercycle: 38\n",
      "Total free BPs in the allocated time: 388636\n"
     ]
    }
   ],
   "source": [
    "PS_bps_total = 0\n",
    "PS_free_bps_total = 0\n",
    "for sps_supercycle in SPS_supercycles_future_scenario.values():\n",
    "    print('*~*~*~*~*~*~*~*~*~*~*~*~*~*~*~*~*~*~*~*~*~*~*~*~*~*~*~*~*~*~*')\n",
    "    print(sps_supercycle.name)\n",
    "    print('Supercycle BPs: %i'%sps_supercycle.bps)\n",
    "    \n",
    "    sps_supercycle.allocate_hours(cnst.SPS_SUPERCYCLES_TIME_SHARING_HOURS['Protons only'][sps_supercycle.name], machine_availability=0.8)\n",
    "    print('Allocated hours to supercycle: %1.1f'%sps_supercycle.allocated_hours)\n",
    "    print('Number of times the supercycle is played in the allocated time: %i'%sps_supercycle.number_of_supercycles_played)\n",
    "    print('Number of times each cycle is played in the allocated time: ', sps_supercycle.number_of_cycles_played)\n",
    "    \n",
    "    sps_supercycle.calculate_free_bps()\n",
    "    print('Free BPs per supercycle: %i'%sps_supercycle.free_bps_per_supercycle)\n",
    "    print('Total free BPs in the allocated time: %i'%sps_supercycle.free_bps_total)\n",
    "\n",
    "    PS_bps_total += sps_supercycle.allocated_bps\n",
    "    PS_free_bps_total += sps_supercycle.free_bps_total"
   ]
  },
  {
   "cell_type": "code",
   "execution_count": 12,
   "metadata": {},
   "outputs": [
    {
     "name": "stdout",
     "output_type": "stream",
     "text": [
      "Total BPs in the PS: 13968000\n",
      "Total free BPs in the PS: 9982030\n"
     ]
    }
   ],
   "source": [
    "print('Total BPs in the PS: %i'%PS_bps_total)\n",
    "print('Total free BPs in the PS: %i'%PS_free_bps_total)"
   ]
  },
  {
   "cell_type": "code",
   "execution_count": 15,
   "metadata": {},
   "outputs": [
    {
     "data": {
      "text/plain": [
       "12.497159804145708"
      ]
     },
     "execution_count": 15,
     "metadata": {},
     "output_type": "execute_result"
    }
   ],
   "source": [
    "(1-9982030/11407664)*100"
   ]
  },
  {
   "cell_type": "markdown",
   "metadata": {},
   "source": [
    "### Check actual number of supercycles played in the PS in 2023"
   ]
  },
  {
   "cell_type": "code",
   "execution_count": 13,
   "metadata": {},
   "outputs": [],
   "source": [
    "source_dir = '../../07_special_presentations/02_JAPW_talk_2023/002_intensity_data/'"
   ]
  }
 ],
 "metadata": {
  "kernelspec": {
   "display_name": "base",
   "language": "python",
   "name": "python3"
  },
  "language_info": {
   "codemirror_mode": {
    "name": "ipython",
    "version": 3
   },
   "file_extension": ".py",
   "mimetype": "text/x-python",
   "name": "python",
   "nbconvert_exporter": "python",
   "pygments_lexer": "ipython3",
   "version": "3.9.12"
  }
 },
 "nbformat": 4,
 "nbformat_minor": 2
}
